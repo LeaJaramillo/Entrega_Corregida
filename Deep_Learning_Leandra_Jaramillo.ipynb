{
 "cells": [
  {
   "cell_type": "markdown",
   "id": "9247f3d3-d978-4d8c-95ac-6d3960b007d9",
   "metadata": {
    "tags": []
   },
   "source": [
    "<div style=\"text-align: center;\">\n",
    "    <img src=\"Logo_Leandra_Jaramillo.png\" alt=\"Logo personal\" style=\"width:25%;\">\n",
    "</div>"
   ]
  },
  {
   "cell_type": "markdown",
   "id": "f0cf3b1e-7cd7-4d39-87ed-7309fb01f4d0",
   "metadata": {
    "tags": []
   },
   "source": [
    "# **Proyecto Final_Ciencia de Datos III: Aplicación de Técnicas de NLP y Desarrollo de una Red Neuronal para Clasificación de Sentimientos**"
   ]
  },
  {
   "cell_type": "markdown",
   "id": "cc083eea-760c-4109-8653-c25ed665f413",
   "metadata": {},
   "source": [
    "* **Descrición general del proyecto:**\n",
    "\n",
    "Este proyecto integra técnicas de Procesamiento de Lenguaje Natural (PLN) y aprendizaje profundo para abordar el problema de la clasificación de comentarios tóxicos en línea. Se utilizará el conjunto de datos \"Jigsaw Toxic Comment Classification Challenge\" de Kaggle, que contiene comentarios de Wikipedia etiquetados según su nivel de toxicidad.\n",
    "\n",
    "* **Etapas y Objetivos del proyecto**\n",
    "\n",
    "1. _Preprocesamiento de Datos:_ Aplicar técnicas de PLN para limpiar y preparar el texto, incluyendo tokenización, eliminación de stopwords y stemming.\n",
    "\n",
    "2. _Análisis de Sentimiento y Vectorización:_ Implementar análisis de sentimiento y vectorización TF-IDF para caracterizar los textos.\n",
    "\n",
    "3. _Desarrollo de Red Neuronal:_ Construir una red neuronal multicapa para clasificar los comentarios en diferentes categorías de toxicidad.\n",
    "\n",
    "4. _Evaluación del Modelo:_ Analizar el rendimiento del modelo y extraer conclusiones sobre su eficacia en la clasificación de comentarios tóxicos.\n",
    "\n",
    "* **Resumen del Dataset**\n",
    "\n",
    "El dataset \"Jigsaw Toxic Comment Classification Challenge\" consta de más de 200,000 comentarios en inglés, cada uno etiquetado con diferentes niveles de toxicidad, como \"toxic\", \"severe_toxic\", \"obscene\", \"identity_attack\", \"insult\" y \"threat\". Este conjunto de datos es ampliamente utilizado para entrenar y evaluar modelos de clasificación de texto en tareas de detección de contenido tóxico.\n",
    "\n",
    "* **Enlace al Dataset**\n",
    "\n",
    "El dataset está disponible en Kaggle y se puede acceder a través del siguiente enlace:[Jigsaw Toxic Comment Classification](https://www.kaggle.com/c/jigsaw-toxic-comment-classification-challenge)\n",
    "\n",
    "Este proyecto combina técnicas de PLN y aprendizaje profundo para abordar un problema real de clasificación de texto, proporcionando una solución efectiva para la detección de comentarios tóxicos en plataformas en línea."
   ]
  },
  {
   "cell_type": "code",
   "execution_count": 1,
   "id": "367a7693-437a-4481-9c7b-a40716b96db9",
   "metadata": {
    "tags": []
   },
   "outputs": [],
   "source": [
    "import pandas as pd"
   ]
  },
  {
   "cell_type": "code",
   "execution_count": 2,
   "id": "6f3a5e7c-f564-4909-8781-b531e7934d90",
   "metadata": {
    "tags": []
   },
   "outputs": [],
   "source": [
    "# Carga el dataset\n",
    "df = pd.read_csv('df.csv')"
   ]
  },
  {
   "cell_type": "code",
   "execution_count": 3,
   "id": "beadb098-6ae2-4c00-9070-7365ace45d82",
   "metadata": {
    "tags": []
   },
   "outputs": [
    {
     "data": {
      "text/html": [
       "<div>\n",
       "<style scoped>\n",
       "    .dataframe tbody tr th:only-of-type {\n",
       "        vertical-align: middle;\n",
       "    }\n",
       "\n",
       "    .dataframe tbody tr th {\n",
       "        vertical-align: top;\n",
       "    }\n",
       "\n",
       "    .dataframe thead th {\n",
       "        text-align: right;\n",
       "    }\n",
       "</style>\n",
       "<table border=\"1\" class=\"dataframe\">\n",
       "  <thead>\n",
       "    <tr style=\"text-align: right;\">\n",
       "      <th></th>\n",
       "      <th>id</th>\n",
       "      <th>target</th>\n",
       "      <th>comment_text</th>\n",
       "      <th>severe_toxicity</th>\n",
       "      <th>obscene</th>\n",
       "      <th>identity_attack</th>\n",
       "      <th>insult</th>\n",
       "      <th>threat</th>\n",
       "      <th>asian</th>\n",
       "      <th>atheist</th>\n",
       "      <th>...</th>\n",
       "      <th>article_id</th>\n",
       "      <th>rating</th>\n",
       "      <th>funny</th>\n",
       "      <th>wow</th>\n",
       "      <th>sad</th>\n",
       "      <th>likes</th>\n",
       "      <th>disagree</th>\n",
       "      <th>sexual_explicit</th>\n",
       "      <th>identity_annotator_count</th>\n",
       "      <th>toxicity_annotator_count</th>\n",
       "    </tr>\n",
       "  </thead>\n",
       "  <tbody>\n",
       "    <tr>\n",
       "      <th>0</th>\n",
       "      <td>239579</td>\n",
       "      <td>0.4400</td>\n",
       "      <td>This is a great story. Man. I wonder if the pe...</td>\n",
       "      <td>0.00</td>\n",
       "      <td>0.293333</td>\n",
       "      <td>0.0000</td>\n",
       "      <td>0.3200</td>\n",
       "      <td>0.0000</td>\n",
       "      <td>0.0</td>\n",
       "      <td>0.0</td>\n",
       "      <td>...</td>\n",
       "      <td>26650</td>\n",
       "      <td>approved</td>\n",
       "      <td>0</td>\n",
       "      <td>0</td>\n",
       "      <td>0</td>\n",
       "      <td>1</td>\n",
       "      <td>0</td>\n",
       "      <td>0.04</td>\n",
       "      <td>10</td>\n",
       "      <td>75</td>\n",
       "    </tr>\n",
       "    <tr>\n",
       "      <th>1</th>\n",
       "      <td>239607</td>\n",
       "      <td>0.9125</td>\n",
       "      <td>Yet call out all Muslims for the acts of a few...</td>\n",
       "      <td>0.05</td>\n",
       "      <td>0.237500</td>\n",
       "      <td>0.6125</td>\n",
       "      <td>0.8875</td>\n",
       "      <td>0.1125</td>\n",
       "      <td>0.0</td>\n",
       "      <td>0.0</td>\n",
       "      <td>...</td>\n",
       "      <td>26670</td>\n",
       "      <td>approved</td>\n",
       "      <td>0</td>\n",
       "      <td>0</td>\n",
       "      <td>0</td>\n",
       "      <td>1</td>\n",
       "      <td>0</td>\n",
       "      <td>0.00</td>\n",
       "      <td>4</td>\n",
       "      <td>80</td>\n",
       "    </tr>\n",
       "    <tr>\n",
       "      <th>2</th>\n",
       "      <td>239644</td>\n",
       "      <td>0.0000</td>\n",
       "      <td>Because the people who drive cars more are the...</td>\n",
       "      <td>0.00</td>\n",
       "      <td>0.000000</td>\n",
       "      <td>0.0000</td>\n",
       "      <td>0.0000</td>\n",
       "      <td>0.0000</td>\n",
       "      <td>0.0</td>\n",
       "      <td>0.0</td>\n",
       "      <td>...</td>\n",
       "      <td>26673</td>\n",
       "      <td>approved</td>\n",
       "      <td>0</td>\n",
       "      <td>0</td>\n",
       "      <td>0</td>\n",
       "      <td>0</td>\n",
       "      <td>0</td>\n",
       "      <td>0.00</td>\n",
       "      <td>4</td>\n",
       "      <td>4</td>\n",
       "    </tr>\n",
       "    <tr>\n",
       "      <th>3</th>\n",
       "      <td>239653</td>\n",
       "      <td>0.3000</td>\n",
       "      <td>Mormons have had a complicated relationship wi...</td>\n",
       "      <td>0.00</td>\n",
       "      <td>0.000000</td>\n",
       "      <td>0.3000</td>\n",
       "      <td>0.0000</td>\n",
       "      <td>0.0000</td>\n",
       "      <td>0.0</td>\n",
       "      <td>0.0</td>\n",
       "      <td>...</td>\n",
       "      <td>26670</td>\n",
       "      <td>approved</td>\n",
       "      <td>0</td>\n",
       "      <td>0</td>\n",
       "      <td>0</td>\n",
       "      <td>2</td>\n",
       "      <td>0</td>\n",
       "      <td>0.00</td>\n",
       "      <td>10</td>\n",
       "      <td>10</td>\n",
       "    </tr>\n",
       "    <tr>\n",
       "      <th>4</th>\n",
       "      <td>239744</td>\n",
       "      <td>0.0000</td>\n",
       "      <td>I'm doing the same thing! :)</td>\n",
       "      <td>0.00</td>\n",
       "      <td>0.000000</td>\n",
       "      <td>0.0000</td>\n",
       "      <td>0.0000</td>\n",
       "      <td>0.0000</td>\n",
       "      <td>0.0</td>\n",
       "      <td>0.0</td>\n",
       "      <td>...</td>\n",
       "      <td>26795</td>\n",
       "      <td>approved</td>\n",
       "      <td>0</td>\n",
       "      <td>0</td>\n",
       "      <td>0</td>\n",
       "      <td>1</td>\n",
       "      <td>0</td>\n",
       "      <td>0.00</td>\n",
       "      <td>4</td>\n",
       "      <td>4</td>\n",
       "    </tr>\n",
       "  </tbody>\n",
       "</table>\n",
       "<p>5 rows × 45 columns</p>\n",
       "</div>"
      ],
      "text/plain": [
       "       id  target                                       comment_text  \\\n",
       "0  239579  0.4400  This is a great story. Man. I wonder if the pe...   \n",
       "1  239607  0.9125  Yet call out all Muslims for the acts of a few...   \n",
       "2  239644  0.0000  Because the people who drive cars more are the...   \n",
       "3  239653  0.3000  Mormons have had a complicated relationship wi...   \n",
       "4  239744  0.0000                       I'm doing the same thing! :)   \n",
       "\n",
       "   severe_toxicity   obscene  identity_attack  insult  threat  asian  atheist  \\\n",
       "0             0.00  0.293333           0.0000  0.3200  0.0000    0.0      0.0   \n",
       "1             0.05  0.237500           0.6125  0.8875  0.1125    0.0      0.0   \n",
       "2             0.00  0.000000           0.0000  0.0000  0.0000    0.0      0.0   \n",
       "3             0.00  0.000000           0.3000  0.0000  0.0000    0.0      0.0   \n",
       "4             0.00  0.000000           0.0000  0.0000  0.0000    0.0      0.0   \n",
       "\n",
       "   ...  article_id    rating  funny  wow  sad  likes  disagree  \\\n",
       "0  ...       26650  approved      0    0    0      1         0   \n",
       "1  ...       26670  approved      0    0    0      1         0   \n",
       "2  ...       26673  approved      0    0    0      0         0   \n",
       "3  ...       26670  approved      0    0    0      2         0   \n",
       "4  ...       26795  approved      0    0    0      1         0   \n",
       "\n",
       "   sexual_explicit  identity_annotator_count  toxicity_annotator_count  \n",
       "0             0.04                        10                        75  \n",
       "1             0.00                         4                        80  \n",
       "2             0.00                         4                         4  \n",
       "3             0.00                        10                        10  \n",
       "4             0.00                         4                         4  \n",
       "\n",
       "[5 rows x 45 columns]"
      ]
     },
     "execution_count": 3,
     "metadata": {},
     "output_type": "execute_result"
    }
   ],
   "source": [
    "# Ver las primeras 5 filas del dataset\n",
    "df.head()"
   ]
  },
  {
   "cell_type": "code",
   "execution_count": 4,
   "id": "ce97fb9f-c0d2-44a1-896c-0ad7da1f4433",
   "metadata": {
    "tags": []
   },
   "outputs": [
    {
     "data": {
      "text/plain": [
       "(235085, 45)"
      ]
     },
     "execution_count": 4,
     "metadata": {},
     "output_type": "execute_result"
    }
   ],
   "source": [
    "# Ver la forma del dataset\n",
    "df.shape"
   ]
  },
  {
   "cell_type": "code",
   "execution_count": 5,
   "id": "13aec6e2-7e25-4362-9e7e-635cd8c63131",
   "metadata": {
    "tags": []
   },
   "outputs": [
    {
     "data": {
      "text/plain": [
       "Index(['id', 'target', 'comment_text', 'severe_toxicity', 'obscene',\n",
       "       'identity_attack', 'insult', 'threat', 'asian', 'atheist', 'bisexual',\n",
       "       'black', 'buddhist', 'christian', 'female', 'heterosexual', 'hindu',\n",
       "       'homosexual_gay_or_lesbian', 'intellectual_or_learning_disability',\n",
       "       'jewish', 'latino', 'male', 'muslim', 'other_disability',\n",
       "       'other_gender', 'other_race_or_ethnicity', 'other_religion',\n",
       "       'other_sexual_orientation', 'physical_disability',\n",
       "       'psychiatric_or_mental_illness', 'transgender', 'white', 'created_date',\n",
       "       'publication_id', 'parent_id', 'article_id', 'rating', 'funny', 'wow',\n",
       "       'sad', 'likes', 'disagree', 'sexual_explicit',\n",
       "       'identity_annotator_count', 'toxicity_annotator_count'],\n",
       "      dtype='object')"
      ]
     },
     "execution_count": 5,
     "metadata": {},
     "output_type": "execute_result"
    }
   ],
   "source": [
    "# Ver las columnas disponibles\n",
    "df.columns"
   ]
  },
  {
   "cell_type": "code",
   "execution_count": 6,
   "id": "8b273609-e21d-4ab2-9a62-9b85d9a5c694",
   "metadata": {
    "tags": []
   },
   "outputs": [
    {
     "data": {
      "text/plain": [
       "id                                     0\n",
       "target                                 0\n",
       "comment_text                           0\n",
       "severe_toxicity                        0\n",
       "obscene                                0\n",
       "identity_attack                        0\n",
       "insult                                 0\n",
       "threat                                 0\n",
       "asian                                  0\n",
       "atheist                                0\n",
       "bisexual                               0\n",
       "black                                  0\n",
       "buddhist                               0\n",
       "christian                              0\n",
       "female                                 0\n",
       "heterosexual                           0\n",
       "hindu                                  0\n",
       "homosexual_gay_or_lesbian              0\n",
       "intellectual_or_learning_disability    0\n",
       "jewish                                 0\n",
       "latino                                 0\n",
       "male                                   0\n",
       "muslim                                 0\n",
       "other_disability                       0\n",
       "other_gender                           0\n",
       "other_race_or_ethnicity                0\n",
       "other_religion                         0\n",
       "other_sexual_orientation               0\n",
       "physical_disability                    0\n",
       "psychiatric_or_mental_illness          0\n",
       "transgender                            0\n",
       "white                                  0\n",
       "created_date                           0\n",
       "publication_id                         0\n",
       "parent_id                              0\n",
       "article_id                             0\n",
       "rating                                 0\n",
       "funny                                  0\n",
       "wow                                    0\n",
       "sad                                    0\n",
       "likes                                  0\n",
       "disagree                               0\n",
       "sexual_explicit                        0\n",
       "identity_annotator_count               0\n",
       "toxicity_annotator_count               0\n",
       "dtype: int64"
      ]
     },
     "execution_count": 6,
     "metadata": {},
     "output_type": "execute_result"
    }
   ],
   "source": [
    "df.isnull().sum()"
   ]
  },
  {
   "cell_type": "markdown",
   "id": "5916c775-99fb-4be6-9b1f-22390ace1fc5",
   "metadata": {},
   "source": [
    "### **Preprocesamiento de Texto para Análisis de Sentimientos**"
   ]
  },
  {
   "cell_type": "code",
   "execution_count": 7,
   "id": "fa3b2675-f4c7-446d-ba38-0242e594403f",
   "metadata": {
    "tags": []
   },
   "outputs": [
    {
     "name": "stdout",
     "output_type": "stream",
     "text": [
      "El dataset contiene 235085 observaciones.\n"
     ]
    }
   ],
   "source": [
    "# Mostrar la cantidad de observaciones en el dataset\n",
    "num_observaciones = df.shape[0]\n",
    "print(f\"El dataset contiene {num_observaciones} observaciones.\")"
   ]
  },
  {
   "cell_type": "code",
   "execution_count": 8,
   "id": "a5495250-eac1-4a0a-a793-98ba87a14bb5",
   "metadata": {
    "tags": []
   },
   "outputs": [
    {
     "name": "stdout",
     "output_type": "stream",
     "text": [
      "<class 'pandas.core.frame.DataFrame'>\n",
      "RangeIndex: 235085 entries, 0 to 235084\n",
      "Data columns (total 45 columns):\n",
      " #   Column                               Non-Null Count   Dtype  \n",
      "---  ------                               --------------   -----  \n",
      " 0   id                                   235085 non-null  int64  \n",
      " 1   target                               235085 non-null  float64\n",
      " 2   comment_text                         235085 non-null  object \n",
      " 3   severe_toxicity                      235085 non-null  float64\n",
      " 4   obscene                              235085 non-null  float64\n",
      " 5   identity_attack                      235085 non-null  float64\n",
      " 6   insult                               235085 non-null  float64\n",
      " 7   threat                               235085 non-null  float64\n",
      " 8   asian                                235085 non-null  float64\n",
      " 9   atheist                              235085 non-null  float64\n",
      " 10  bisexual                             235085 non-null  float64\n",
      " 11  black                                235085 non-null  float64\n",
      " 12  buddhist                             235085 non-null  float64\n",
      " 13  christian                            235085 non-null  float64\n",
      " 14  female                               235085 non-null  float64\n",
      " 15  heterosexual                         235085 non-null  float64\n",
      " 16  hindu                                235085 non-null  float64\n",
      " 17  homosexual_gay_or_lesbian            235085 non-null  float64\n",
      " 18  intellectual_or_learning_disability  235085 non-null  float64\n",
      " 19  jewish                               235085 non-null  float64\n",
      " 20  latino                               235085 non-null  float64\n",
      " 21  male                                 235085 non-null  float64\n",
      " 22  muslim                               235085 non-null  float64\n",
      " 23  other_disability                     235085 non-null  float64\n",
      " 24  other_gender                         235085 non-null  float64\n",
      " 25  other_race_or_ethnicity              235085 non-null  float64\n",
      " 26  other_religion                       235085 non-null  float64\n",
      " 27  other_sexual_orientation             235085 non-null  float64\n",
      " 28  physical_disability                  235085 non-null  float64\n",
      " 29  psychiatric_or_mental_illness        235085 non-null  float64\n",
      " 30  transgender                          235085 non-null  float64\n",
      " 31  white                                235085 non-null  float64\n",
      " 32  created_date                         235085 non-null  object \n",
      " 33  publication_id                       235085 non-null  int64  \n",
      " 34  parent_id                            235085 non-null  float64\n",
      " 35  article_id                           235085 non-null  int64  \n",
      " 36  rating                               235085 non-null  object \n",
      " 37  funny                                235085 non-null  int64  \n",
      " 38  wow                                  235085 non-null  int64  \n",
      " 39  sad                                  235085 non-null  int64  \n",
      " 40  likes                                235085 non-null  int64  \n",
      " 41  disagree                             235085 non-null  int64  \n",
      " 42  sexual_explicit                      235085 non-null  float64\n",
      " 43  identity_annotator_count             235085 non-null  int64  \n",
      " 44  toxicity_annotator_count             235085 non-null  int64  \n",
      "dtypes: float64(32), int64(10), object(3)\n",
      "memory usage: 80.7+ MB\n"
     ]
    },
    {
     "data": {
      "text/html": [
       "<div>\n",
       "<style scoped>\n",
       "    .dataframe tbody tr th:only-of-type {\n",
       "        vertical-align: middle;\n",
       "    }\n",
       "\n",
       "    .dataframe tbody tr th {\n",
       "        vertical-align: top;\n",
       "    }\n",
       "\n",
       "    .dataframe thead th {\n",
       "        text-align: right;\n",
       "    }\n",
       "</style>\n",
       "<table border=\"1\" class=\"dataframe\">\n",
       "  <thead>\n",
       "    <tr style=\"text-align: right;\">\n",
       "      <th></th>\n",
       "      <th>id</th>\n",
       "      <th>target</th>\n",
       "      <th>severe_toxicity</th>\n",
       "      <th>obscene</th>\n",
       "      <th>identity_attack</th>\n",
       "      <th>insult</th>\n",
       "      <th>threat</th>\n",
       "      <th>asian</th>\n",
       "      <th>atheist</th>\n",
       "      <th>bisexual</th>\n",
       "      <th>...</th>\n",
       "      <th>parent_id</th>\n",
       "      <th>article_id</th>\n",
       "      <th>funny</th>\n",
       "      <th>wow</th>\n",
       "      <th>sad</th>\n",
       "      <th>likes</th>\n",
       "      <th>disagree</th>\n",
       "      <th>sexual_explicit</th>\n",
       "      <th>identity_annotator_count</th>\n",
       "      <th>toxicity_annotator_count</th>\n",
       "    </tr>\n",
       "  </thead>\n",
       "  <tbody>\n",
       "    <tr>\n",
       "      <th>count</th>\n",
       "      <td>2.350850e+05</td>\n",
       "      <td>235085.000000</td>\n",
       "      <td>235085.000000</td>\n",
       "      <td>235085.000000</td>\n",
       "      <td>235085.000000</td>\n",
       "      <td>235085.000000</td>\n",
       "      <td>235085.000000</td>\n",
       "      <td>235085.000000</td>\n",
       "      <td>235085.000000</td>\n",
       "      <td>235085.000000</td>\n",
       "      <td>...</td>\n",
       "      <td>2.350850e+05</td>\n",
       "      <td>235085.000000</td>\n",
       "      <td>235085.000000</td>\n",
       "      <td>235085.000000</td>\n",
       "      <td>235085.000000</td>\n",
       "      <td>235085.000000</td>\n",
       "      <td>235085.000000</td>\n",
       "      <td>235085.000000</td>\n",
       "      <td>235085.000000</td>\n",
       "      <td>235085.000000</td>\n",
       "    </tr>\n",
       "    <tr>\n",
       "      <th>mean</th>\n",
       "      <td>3.713825e+06</td>\n",
       "      <td>0.134955</td>\n",
       "      <td>0.006400</td>\n",
       "      <td>0.014507</td>\n",
       "      <td>0.060856</td>\n",
       "      <td>0.094045</td>\n",
       "      <td>0.010552</td>\n",
       "      <td>0.011128</td>\n",
       "      <td>0.003869</td>\n",
       "      <td>0.001886</td>\n",
       "      <td>...</td>\n",
       "      <td>3.704662e+06</td>\n",
       "      <td>280836.789387</td>\n",
       "      <td>0.246281</td>\n",
       "      <td>0.039390</td>\n",
       "      <td>0.099143</td>\n",
       "      <td>2.070932</td>\n",
       "      <td>0.540779</td>\n",
       "      <td>0.012390</td>\n",
       "      <td>6.462160</td>\n",
       "      <td>9.763800</td>\n",
       "    </tr>\n",
       "    <tr>\n",
       "      <th>std</th>\n",
       "      <td>2.454013e+06</td>\n",
       "      <td>0.213121</td>\n",
       "      <td>0.026856</td>\n",
       "      <td>0.063333</td>\n",
       "      <td>0.133748</td>\n",
       "      <td>0.178933</td>\n",
       "      <td>0.049123</td>\n",
       "      <td>0.084622</td>\n",
       "      <td>0.055375</td>\n",
       "      <td>0.026391</td>\n",
       "      <td>...</td>\n",
       "      <td>2.454650e+06</td>\n",
       "      <td>103698.966678</td>\n",
       "      <td>0.939484</td>\n",
       "      <td>0.233226</td>\n",
       "      <td>0.427486</td>\n",
       "      <td>3.915709</td>\n",
       "      <td>1.773843</td>\n",
       "      <td>0.063237</td>\n",
       "      <td>38.501328</td>\n",
       "      <td>47.688272</td>\n",
       "    </tr>\n",
       "    <tr>\n",
       "      <th>min</th>\n",
       "      <td>2.395790e+05</td>\n",
       "      <td>0.000000</td>\n",
       "      <td>0.000000</td>\n",
       "      <td>0.000000</td>\n",
       "      <td>0.000000</td>\n",
       "      <td>0.000000</td>\n",
       "      <td>0.000000</td>\n",
       "      <td>0.000000</td>\n",
       "      <td>0.000000</td>\n",
       "      <td>0.000000</td>\n",
       "      <td>...</td>\n",
       "      <td>6.618700e+04</td>\n",
       "      <td>2476.000000</td>\n",
       "      <td>0.000000</td>\n",
       "      <td>0.000000</td>\n",
       "      <td>0.000000</td>\n",
       "      <td>0.000000</td>\n",
       "      <td>0.000000</td>\n",
       "      <td>0.000000</td>\n",
       "      <td>4.000000</td>\n",
       "      <td>3.000000</td>\n",
       "    </tr>\n",
       "    <tr>\n",
       "      <th>25%</th>\n",
       "      <td>7.962230e+05</td>\n",
       "      <td>0.000000</td>\n",
       "      <td>0.000000</td>\n",
       "      <td>0.000000</td>\n",
       "      <td>0.000000</td>\n",
       "      <td>0.000000</td>\n",
       "      <td>0.000000</td>\n",
       "      <td>0.000000</td>\n",
       "      <td>0.000000</td>\n",
       "      <td>0.000000</td>\n",
       "      <td>...</td>\n",
       "      <td>7.932280e+05</td>\n",
       "      <td>160078.000000</td>\n",
       "      <td>0.000000</td>\n",
       "      <td>0.000000</td>\n",
       "      <td>0.000000</td>\n",
       "      <td>0.000000</td>\n",
       "      <td>0.000000</td>\n",
       "      <td>0.000000</td>\n",
       "      <td>4.000000</td>\n",
       "      <td>4.000000</td>\n",
       "    </tr>\n",
       "    <tr>\n",
       "      <th>50%</th>\n",
       "      <td>5.216870e+06</td>\n",
       "      <td>0.000000</td>\n",
       "      <td>0.000000</td>\n",
       "      <td>0.000000</td>\n",
       "      <td>0.000000</td>\n",
       "      <td>0.000000</td>\n",
       "      <td>0.000000</td>\n",
       "      <td>0.000000</td>\n",
       "      <td>0.000000</td>\n",
       "      <td>0.000000</td>\n",
       "      <td>...</td>\n",
       "      <td>5.213015e+06</td>\n",
       "      <td>331646.000000</td>\n",
       "      <td>0.000000</td>\n",
       "      <td>0.000000</td>\n",
       "      <td>0.000000</td>\n",
       "      <td>1.000000</td>\n",
       "      <td>0.000000</td>\n",
       "      <td>0.000000</td>\n",
       "      <td>4.000000</td>\n",
       "      <td>4.000000</td>\n",
       "    </tr>\n",
       "    <tr>\n",
       "      <th>75%</th>\n",
       "      <td>5.788629e+06</td>\n",
       "      <td>0.200000</td>\n",
       "      <td>0.000000</td>\n",
       "      <td>0.000000</td>\n",
       "      <td>0.000000</td>\n",
       "      <td>0.166667</td>\n",
       "      <td>0.000000</td>\n",
       "      <td>0.000000</td>\n",
       "      <td>0.000000</td>\n",
       "      <td>0.000000</td>\n",
       "      <td>...</td>\n",
       "      <td>5.783984e+06</td>\n",
       "      <td>367131.000000</td>\n",
       "      <td>0.000000</td>\n",
       "      <td>0.000000</td>\n",
       "      <td>0.000000</td>\n",
       "      <td>3.000000</td>\n",
       "      <td>0.000000</td>\n",
       "      <td>0.000000</td>\n",
       "      <td>6.000000</td>\n",
       "      <td>10.000000</td>\n",
       "    </tr>\n",
       "    <tr>\n",
       "      <th>max</th>\n",
       "      <td>6.333950e+06</td>\n",
       "      <td>1.000000</td>\n",
       "      <td>0.600000</td>\n",
       "      <td>1.000000</td>\n",
       "      <td>1.000000</td>\n",
       "      <td>1.000000</td>\n",
       "      <td>1.000000</td>\n",
       "      <td>1.000000</td>\n",
       "      <td>1.000000</td>\n",
       "      <td>1.000000</td>\n",
       "      <td>...</td>\n",
       "      <td>6.333789e+06</td>\n",
       "      <td>399528.000000</td>\n",
       "      <td>42.000000</td>\n",
       "      <td>15.000000</td>\n",
       "      <td>24.000000</td>\n",
       "      <td>181.000000</td>\n",
       "      <td>90.000000</td>\n",
       "      <td>1.000000</td>\n",
       "      <td>1866.000000</td>\n",
       "      <td>4897.000000</td>\n",
       "    </tr>\n",
       "  </tbody>\n",
       "</table>\n",
       "<p>8 rows × 42 columns</p>\n",
       "</div>"
      ],
      "text/plain": [
       "                 id         target  severe_toxicity        obscene  \\\n",
       "count  2.350850e+05  235085.000000    235085.000000  235085.000000   \n",
       "mean   3.713825e+06       0.134955         0.006400       0.014507   \n",
       "std    2.454013e+06       0.213121         0.026856       0.063333   \n",
       "min    2.395790e+05       0.000000         0.000000       0.000000   \n",
       "25%    7.962230e+05       0.000000         0.000000       0.000000   \n",
       "50%    5.216870e+06       0.000000         0.000000       0.000000   \n",
       "75%    5.788629e+06       0.200000         0.000000       0.000000   \n",
       "max    6.333950e+06       1.000000         0.600000       1.000000   \n",
       "\n",
       "       identity_attack         insult         threat          asian  \\\n",
       "count    235085.000000  235085.000000  235085.000000  235085.000000   \n",
       "mean          0.060856       0.094045       0.010552       0.011128   \n",
       "std           0.133748       0.178933       0.049123       0.084622   \n",
       "min           0.000000       0.000000       0.000000       0.000000   \n",
       "25%           0.000000       0.000000       0.000000       0.000000   \n",
       "50%           0.000000       0.000000       0.000000       0.000000   \n",
       "75%           0.000000       0.166667       0.000000       0.000000   \n",
       "max           1.000000       1.000000       1.000000       1.000000   \n",
       "\n",
       "             atheist       bisexual  ...     parent_id     article_id  \\\n",
       "count  235085.000000  235085.000000  ...  2.350850e+05  235085.000000   \n",
       "mean        0.003869       0.001886  ...  3.704662e+06  280836.789387   \n",
       "std         0.055375       0.026391  ...  2.454650e+06  103698.966678   \n",
       "min         0.000000       0.000000  ...  6.618700e+04    2476.000000   \n",
       "25%         0.000000       0.000000  ...  7.932280e+05  160078.000000   \n",
       "50%         0.000000       0.000000  ...  5.213015e+06  331646.000000   \n",
       "75%         0.000000       0.000000  ...  5.783984e+06  367131.000000   \n",
       "max         1.000000       1.000000  ...  6.333789e+06  399528.000000   \n",
       "\n",
       "               funny            wow            sad          likes  \\\n",
       "count  235085.000000  235085.000000  235085.000000  235085.000000   \n",
       "mean        0.246281       0.039390       0.099143       2.070932   \n",
       "std         0.939484       0.233226       0.427486       3.915709   \n",
       "min         0.000000       0.000000       0.000000       0.000000   \n",
       "25%         0.000000       0.000000       0.000000       0.000000   \n",
       "50%         0.000000       0.000000       0.000000       1.000000   \n",
       "75%         0.000000       0.000000       0.000000       3.000000   \n",
       "max        42.000000      15.000000      24.000000     181.000000   \n",
       "\n",
       "            disagree  sexual_explicit  identity_annotator_count  \\\n",
       "count  235085.000000    235085.000000             235085.000000   \n",
       "mean        0.540779         0.012390                  6.462160   \n",
       "std         1.773843         0.063237                 38.501328   \n",
       "min         0.000000         0.000000                  4.000000   \n",
       "25%         0.000000         0.000000                  4.000000   \n",
       "50%         0.000000         0.000000                  4.000000   \n",
       "75%         0.000000         0.000000                  6.000000   \n",
       "max        90.000000         1.000000               1866.000000   \n",
       "\n",
       "       toxicity_annotator_count  \n",
       "count             235085.000000  \n",
       "mean                   9.763800  \n",
       "std                   47.688272  \n",
       "min                    3.000000  \n",
       "25%                    4.000000  \n",
       "50%                    4.000000  \n",
       "75%                   10.000000  \n",
       "max                 4897.000000  \n",
       "\n",
       "[8 rows x 42 columns]"
      ]
     },
     "execution_count": 8,
     "metadata": {},
     "output_type": "execute_result"
    }
   ],
   "source": [
    "# Mostrar información general del dataset\n",
    "df.info()\n",
    "\n",
    "# Descripción estadística de las variables numéricas\n",
    "df.describe()"
   ]
  },
  {
   "cell_type": "markdown",
   "id": "46cf37b3-1f10-4d58-9ba3-7b97a0f4c176",
   "metadata": {},
   "source": [
    "* **Remoción de Stopwords:**"
   ]
  },
  {
   "cell_type": "code",
   "execution_count": 9,
   "id": "620d245f-b891-4ecd-a7b3-fe71b34fb585",
   "metadata": {
    "tags": []
   },
   "outputs": [
    {
     "name": "stderr",
     "output_type": "stream",
     "text": [
      "[nltk_data] Downloading package stopwords to\n",
      "[nltk_data]     C:\\Users\\Leandra\\AppData\\Roaming\\nltk_data...\n",
      "[nltk_data]   Package stopwords is already up-to-date!\n"
     ]
    },
    {
     "data": {
      "text/plain": [
       "0    great story. Man. wonder person yelled \"shut f...\n",
       "1    Yet call Muslims acts get pilloried. okay smea...\n",
       "2    people drive cars ones cause wear tear roads? ...\n",
       "3        Mormons complicated relationship federal law.\n",
       "4                                        I'm thing! :)\n",
       "Name: comment_text, dtype: object"
      ]
     },
     "execution_count": 9,
     "metadata": {},
     "output_type": "execute_result"
    }
   ],
   "source": [
    "import nltk\n",
    "from nltk.corpus import stopwords\n",
    "\n",
    "# Descargar stopwords en caso de que no estén disponibles\n",
    "nltk.download('stopwords')\n",
    "\n",
    "# Lista de stopwords en inglés\n",
    "stop_words = set(stopwords.words('english'))\n",
    "\n",
    "# Función para remover stopwords de un texto\n",
    "def remove_stopwords(text):\n",
    "    tokens = text.split()\n",
    "    filtered_words = [word for word in tokens if word.lower() not in stop_words]\n",
    "    return ' '.join(filtered_words)\n",
    "\n",
    "# Aplicar la función de remoción de stopwords a la columna de texto\n",
    "df['comment_text'] = df['comment_text'].apply(remove_stopwords)\n",
    "\n",
    "# Mostrar las primeras filas para verificar el resultado\n",
    "df['comment_text'].head()"
   ]
  },
  {
   "cell_type": "markdown",
   "id": "413031c3-a35b-4fbf-98c3-216c7b33f7bb",
   "metadata": {},
   "source": [
    "**En este paso, se eliminaron las stopwords del texto, lo que permite reducir el ruido en los datos y centrarse en las palabras más relevantes para el análisis de sentimiento. La remoción de stopwords mejora la calidad del texto, ya que estas palabras comunes no aportan valor predictivo significativo al modelo, facilitando un análisis más preciso en las etapas posteriores**"
   ]
  },
  {
   "cell_type": "markdown",
   "id": "2f42ceec-6f75-4c24-b125-c2c91fff98fa",
   "metadata": {},
   "source": [
    "* **Stemming:**"
   ]
  },
  {
   "cell_type": "code",
   "execution_count": 10,
   "id": "14ea0f6a-c0ae-4ddc-bf0b-b89433435bbf",
   "metadata": {
    "tags": []
   },
   "outputs": [
    {
     "data": {
      "text/html": [
       "<div>\n",
       "<style scoped>\n",
       "    .dataframe tbody tr th:only-of-type {\n",
       "        vertical-align: middle;\n",
       "    }\n",
       "\n",
       "    .dataframe tbody tr th {\n",
       "        vertical-align: top;\n",
       "    }\n",
       "\n",
       "    .dataframe thead th {\n",
       "        text-align: right;\n",
       "    }\n",
       "</style>\n",
       "<table border=\"1\" class=\"dataframe\">\n",
       "  <thead>\n",
       "    <tr style=\"text-align: right;\">\n",
       "      <th></th>\n",
       "      <th>comment_text</th>\n",
       "    </tr>\n",
       "  </thead>\n",
       "  <tbody>\n",
       "    <tr>\n",
       "      <th>0</th>\n",
       "      <td>great story. man. wonder person yell \"shut fuc...</td>\n",
       "    </tr>\n",
       "    <tr>\n",
       "      <th>1</th>\n",
       "      <td>yet call muslim act get pilloried. okay smear ...</td>\n",
       "    </tr>\n",
       "    <tr>\n",
       "      <th>2</th>\n",
       "      <td>peopl drive car one caus wear tear roads? pret...</td>\n",
       "    </tr>\n",
       "    <tr>\n",
       "      <th>3</th>\n",
       "      <td>mormon complic relationship feder law.</td>\n",
       "    </tr>\n",
       "    <tr>\n",
       "      <th>4</th>\n",
       "      <td>i'm thing! :)</td>\n",
       "    </tr>\n",
       "  </tbody>\n",
       "</table>\n",
       "</div>"
      ],
      "text/plain": [
       "                                        comment_text\n",
       "0  great story. man. wonder person yell \"shut fuc...\n",
       "1  yet call muslim act get pilloried. okay smear ...\n",
       "2  peopl drive car one caus wear tear roads? pret...\n",
       "3             mormon complic relationship feder law.\n",
       "4                                      i'm thing! :)"
      ]
     },
     "execution_count": 10,
     "metadata": {},
     "output_type": "execute_result"
    }
   ],
   "source": [
    "from nltk.stem import PorterStemmer\n",
    "\n",
    "# Inicializar el stemmer\n",
    "stemmer = PorterStemmer()\n",
    "\n",
    "# Función para aplicar stemming al texto\n",
    "def apply_stemming(text):\n",
    "    tokens = text.split()  # Dividir el texto en palabras\n",
    "    stemmed_words = [stemmer.stem(word) for word in tokens]\n",
    "    return ' '.join(stemmed_words)\n",
    "\n",
    "# Aplicar el stemming a la columna de texto\n",
    "df['comment_text'] = df['comment_text'].apply(apply_stemming)\n",
    "\n",
    "# Mostrar las primeras filas para verificar el resultado\n",
    "df[['comment_text']].head()"
   ]
  },
  {
   "cell_type": "markdown",
   "id": "4272b7bc-1c27-4475-b24b-230058ad4dfd",
   "metadata": {},
   "source": [
    "**En este paso, se aplicó el stemming para reducir las palabras a sus formas raíz. Esta técnica ayuda a unificar términos similares, reduciendo la complejidad del texto y mejorando la eficiencia del modelo de clasificación, ya que reduce la dimensionalidad y la variabilidad del vocabulario.**"
   ]
  },
  {
   "cell_type": "markdown",
   "id": "c0795927-46cf-4713-b245-96a4863027a4",
   "metadata": {},
   "source": [
    "* **Vectorización con TF-IDF:**"
   ]
  },
  {
   "cell_type": "code",
   "execution_count": 11,
   "id": "dcd5aaf0-e62f-4e63-a444-468da833b47d",
   "metadata": {
    "tags": []
   },
   "outputs": [
    {
     "name": "stdout",
     "output_type": "stream",
     "text": [
      "La matriz TF-IDF tiene una forma de: (235085, 5000)\n"
     ]
    }
   ],
   "source": [
    "from sklearn.feature_extraction.text import TfidfVectorizer\n",
    "\n",
    "# Inicializar el vectorizador TF-IDF con un límite en el número de características para controlar la dimensionalidad\n",
    "tfidf_vectorizer = TfidfVectorizer(max_features=5000)  # Puedes ajustar max_features según el tamaño del dataset\n",
    "\n",
    "# Aplicar TF-IDF a la columna de texto\n",
    "tfidf_matrix = tfidf_vectorizer.fit_transform(df['comment_text'])\n",
    "\n",
    "# Ver la forma de la matriz TF-IDF\n",
    "print(f\"La matriz TF-IDF tiene una forma de: {tfidf_matrix.shape}\")"
   ]
  },
  {
   "cell_type": "markdown",
   "id": "f1b14713-1a6d-44c8-8fd5-243d231522be",
   "metadata": {},
   "source": [
    "**La vectorización con TF-IDF ha permitido transformar el texto en una matriz numérica que captura la importancia relativa de las palabras más significativas del dataset. La matriz tiene una dimensión de (235,085, 5,000), lo que indica que se consideraron las 5,000 palabras más importantes en el conjunto de datos. Esto facilita el uso de modelos de clasificación, como la red neuronal, para el análisis posterior.**"
   ]
  },
  {
   "cell_type": "markdown",
   "id": "2fc81752-7ca7-47ad-9829-074fd2d33228",
   "metadata": {},
   "source": [
    "* **Análisis de sentimientos:**"
   ]
  },
  {
   "cell_type": "code",
   "execution_count": 12,
   "id": "3bbae307-3a62-4776-9440-84c3bb7f9948",
   "metadata": {
    "tags": []
   },
   "outputs": [
    {
     "data": {
      "text/html": [
       "<div>\n",
       "<style scoped>\n",
       "    .dataframe tbody tr th:only-of-type {\n",
       "        vertical-align: middle;\n",
       "    }\n",
       "\n",
       "    .dataframe tbody tr th {\n",
       "        vertical-align: top;\n",
       "    }\n",
       "\n",
       "    .dataframe thead th {\n",
       "        text-align: right;\n",
       "    }\n",
       "</style>\n",
       "<table border=\"1\" class=\"dataframe\">\n",
       "  <thead>\n",
       "    <tr style=\"text-align: right;\">\n",
       "      <th></th>\n",
       "      <th>comment_text</th>\n",
       "      <th>sentiment_score</th>\n",
       "    </tr>\n",
       "  </thead>\n",
       "  <tbody>\n",
       "    <tr>\n",
       "      <th>0</th>\n",
       "      <td>great story. man. wonder person yell \"shut fuc...</td>\n",
       "      <td>0.2244</td>\n",
       "    </tr>\n",
       "    <tr>\n",
       "      <th>1</th>\n",
       "      <td>yet call muslim act get pilloried. okay smear ...</td>\n",
       "      <td>0.1680</td>\n",
       "    </tr>\n",
       "    <tr>\n",
       "      <th>2</th>\n",
       "      <td>peopl drive car one caus wear tear roads? pret...</td>\n",
       "      <td>0.3182</td>\n",
       "    </tr>\n",
       "    <tr>\n",
       "      <th>3</th>\n",
       "      <td>mormon complic relationship feder law.</td>\n",
       "      <td>0.0000</td>\n",
       "    </tr>\n",
       "    <tr>\n",
       "      <th>4</th>\n",
       "      <td>i'm thing! :)</td>\n",
       "      <td>0.5093</td>\n",
       "    </tr>\n",
       "  </tbody>\n",
       "</table>\n",
       "</div>"
      ],
      "text/plain": [
       "                                        comment_text  sentiment_score\n",
       "0  great story. man. wonder person yell \"shut fuc...           0.2244\n",
       "1  yet call muslim act get pilloried. okay smear ...           0.1680\n",
       "2  peopl drive car one caus wear tear roads? pret...           0.3182\n",
       "3             mormon complic relationship feder law.           0.0000\n",
       "4                                      i'm thing! :)           0.5093"
      ]
     },
     "execution_count": 12,
     "metadata": {},
     "output_type": "execute_result"
    }
   ],
   "source": [
    "from vaderSentiment.vaderSentiment import SentimentIntensityAnalyzer\n",
    "\n",
    "# Inicializar el analizador de sentimientos de VADER\n",
    "analyzer = SentimentIntensityAnalyzer()\n",
    "\n",
    "# Función para obtener la polaridad del texto\n",
    "def sentiment_analysis(text):\n",
    "    sentiment_score = analyzer.polarity_scores(text)\n",
    "    return sentiment_score['compound']\n",
    "\n",
    "# Aplicar el análisis de sentimientos a la columna de texto\n",
    "df['sentiment_score'] = df['comment_text'].apply(sentiment_analysis)\n",
    "\n",
    "# Mostrar las primeras filas para verificar el resultado\n",
    "df[['comment_text', 'sentiment_score']].head()"
   ]
  },
  {
   "cell_type": "code",
   "execution_count": 13,
   "id": "17216868-ed39-419d-9dd9-2282b24ed362",
   "metadata": {
    "tags": []
   },
   "outputs": [
    {
     "data": {
      "image/png": "[encoded data removed]",
      "text/plain": [
       "<Figure size 800x400 with 1 Axes>"
      ]
     },
     "metadata": {},
     "output_type": "display_data"
    }
   ],
   "source": [
    "import matplotlib.pyplot as plt\n",
    "\n",
    "# Crear un histograma para visualizar la distribución de los puntajes de sentimiento\n",
    "plt.figure(figsize=(8, 4))\n",
    "plt.hist(df['sentiment_score'], bins=30, color='skyblue', edgecolor='black')\n",
    "plt.title('Distribución de los Puntajes de Sentimiento', fontsize=16)\n",
    "plt.xlabel('Puntaje de Sentimiento', fontsize=14)\n",
    "plt.ylabel('Frecuencia', fontsize=14)\n",
    "plt.grid(True)\n",
    "plt.show()"
   ]
  },
  {
   "cell_type": "markdown",
   "id": "a7316201-3c67-4f59-8e48-d9fbda05f5d7",
   "metadata": {},
   "source": [
    "**Interpretación de la Distribución de los Puntajes de Sentimiento**\n",
    "\n",
    "* **Pico en los valores cercanos a 0:**\n",
    "\n",
    "La mayoría de los puntajes de sentimiento se encuentran alrededor de 0, lo que indica que una gran proporción de los comentarios tiene un sentimiento neutral.Esto es común en datasets de texto que contienen una mezcla de opiniones, donde muchos comentarios pueden ser objetivos o sin un tono claro de emoción positiva o negativa.\n",
    "\n",
    "* **Distribución de comentarios positivos y negativos:**\n",
    "\n",
    "Hay una buena cantidad de comentarios tanto con puntajes negativos (cerca de -1) como con puntajes positivos (cerca de 1).\n",
    "Esto sugiere que el dataset tiene un balance razonable entre comentarios con carga emocional negativa y positiva, lo cual es favorable para el análisis, ya que permite entrenar modelos que puedan diferenciar mejor entre sentimientos extremos.\n",
    "\n",
    "* **Menor frecuencia en puntajes extremos:**\n",
    "\n",
    "Como suele ser el caso en muchos datasets de texto, hay menos comentarios con puntajes extremos (muy positivos o muy negativos), lo cual puede indicar una menor cantidad de comentarios con emociones muy intensas."
   ]
  },
  {
   "cell_type": "markdown",
   "id": "c55a8411-37b2-4549-8400-cbf461c664c9",
   "metadata": {},
   "source": [
    "* **Nube de palabras:**"
   ]
  },
  {
   "cell_type": "code",
   "execution_count": 14,
   "id": "ad6e9fee-8610-41d1-bc30-73c237a19664",
   "metadata": {
    "tags": []
   },
   "outputs": [
    {
     "data": {
      "image/png": "[encoded data removed]",
      "text/plain": [
       "<Figure size 1000x600 with 1 Axes>"
      ]
     },
     "metadata": {},
     "output_type": "display_data"
    }
   ],
   "source": [
    "from wordcloud import WordCloud\n",
    "\n",
    "# Combinar todos los comentarios en un solo string\n",
    "all_comments = ' '.join(df['comment_text'])\n",
    "\n",
    "# Crear la nube de palabras\n",
    "wordcloud = WordCloud(width=800, height=400, background_color='white', stopwords=stop_words, max_words=100).generate(all_comments)\n",
    "\n",
    "# Visualizar la nube de palabras\n",
    "plt.figure(figsize=(10, 6))\n",
    "plt.imshow(wordcloud, interpolation='bilinear')\n",
    "plt.axis('off')\n",
    "plt.title('Nube de Palabras de los Comentarios', fontsize=16)\n",
    "plt.show()"
   ]
  },
  {
   "cell_type": "markdown",
   "id": "a28d7195-1f87-42ec-acc3-03fa59a7c66c",
   "metadata": {},
   "source": [
    "**Interpretación de la Nube de Palabras**\n",
    "\n",
    "* **Palabras más frecuentes:**\n",
    "\n",
    "Las palabras más grandes en la nube, como \"one\", \"like\", \"know\", \"think\", y \"say\", indican que estas son las más comunes en el dataset.\n",
    "Estas palabras suelen ser indicativas de opiniones o discusiones generales, lo cual es esperado en un dataset de comentarios.\n",
    "\n",
    "* **Presencia de términos emocionales o polémicos:**\n",
    "\n",
    "Algunas palabras que se destacan, como \"Trump\", \"church\", y \"believe\", sugieren la presencia de temas relacionados con política, religión o creencias, que pueden ser potencialmente polarizantes. Esto es consistente con la naturaleza del dataset, ya que la clasificación de comentarios tóxicos generalmente involucra contenido con carga emocional o puntos de vista fuertes.\n",
    "\n",
    "* **Conexión con el análisis de sentimientos:**\n",
    "\n",
    "La frecuencia de palabras como \"right\", \"good\", y \"want\" también podría reflejar ciertos sesgos sentimentales en el texto, lo cual es relevante para el análisis de polaridad y sentimiento realizado previamente."
   ]
  },
  {
   "cell_type": "markdown",
   "id": "b928fb26-90f5-43bf-8f22-b9ead7253a18",
   "metadata": {},
   "source": [
    "* **Aplicación algortimo LDA:**"
   ]
  },
  {
   "cell_type": "code",
   "execution_count": 15,
   "id": "785eaf03-5b1d-4674-9d82-10a8113259e8",
   "metadata": {
    "tags": []
   },
   "outputs": [],
   "source": [
    "import gensim\n",
    "from gensim import corpora\n",
    "\n",
    "# Tokenizar y filtrar stopwords\n",
    "df['lda_tokens'] = df['comment_text'].apply(lambda x: [word for word in x.split() if word.lower() not in stop_words])\n",
    "\n",
    "# Crear diccionario para LDA\n",
    "dictionary = corpora.Dictionary(df['lda_tokens'])\n",
    "\n",
    "# Filtrar palabras demasiado comunes o raras\n",
    "dictionary.filter_extremes(no_below=5, no_above=0.5)\n",
    "\n",
    "# Crear bag-of-words para cada comentario\n",
    "corpus = [dictionary.doc2bow(text) for text in df['lda_tokens']]"
   ]
  },
  {
   "cell_type": "code",
   "execution_count": 16,
   "id": "4312d5eb-27ab-4a11-b62c-093f0c42e1b1",
   "metadata": {
    "tags": []
   },
   "outputs": [
    {
     "name": "stdout",
     "output_type": "stream",
     "text": [
      "Tema 1: 0.012*\"church\" + 0.010*\"cathol\" + 0.007*\"god\" + 0.007*\"one\" + 0.007*\"christian\" + 0.006*\"jesu\" + 0.005*\"would\" + 0.005*\"believ\" + 0.005*\"religi\" + 0.005*\"teach\"\n",
      "Tema 2: 0.011*\"countri\" + 0.009*\"american\" + 0.009*\"muslim\" + 0.007*\"us\" + 0.007*\"white\" + 0.007*\"u.s.\" + 0.007*\"nation\" + 0.006*\"law\" + 0.006*\"canadian\" + 0.006*\"state\"\n",
      "Tema 3: 0.008*\"tax\" + 0.007*\"would\" + 0.007*\"pay\" + 0.007*\"get\" + 0.006*\"year\" + 0.005*\"work\" + 0.005*\"money\" + 0.005*\"need\" + 0.005*\"go\" + 0.005*\"govern\"\n",
      "Tema 4: 0.012*\"peopl\" + 0.012*\"like\" + 0.009*\"get\" + 0.009*\"women\" + 0.008*\"would\" + 0.008*\"think\" + 0.007*\"one\" + 0.007*\"go\" + 0.007*\"know\" + 0.006*\"want\"\n",
      "Tema 5: 0.012*\"trump\" + 0.007*\"would\" + 0.007*\"comment\" + 0.006*\"-\" + 0.005*\"one\" + 0.005*\"vote\" + 0.005*\"like\" + 0.005*\"say\" + 0.005*\"read\" + 0.005*\"support\"\n"
     ]
    }
   ],
   "source": [
    "from gensim.models import LdaModel\n",
    "\n",
    "# Definir el número de temas (ajústalo según el análisis)\n",
    "num_topics = 5\n",
    "\n",
    "# Entrenar el modelo LDA\n",
    "lda_model = LdaModel(corpus=corpus, num_topics=num_topics, id2word=dictionary, passes=10)\n",
    "\n",
    "# Mostrar los temas generados por el modelo\n",
    "topics = lda_model.print_topics(num_words=10)\n",
    "for idx, topic in topics:\n",
    "    print(f\"Tema {idx+1}: {topic}\")"
   ]
  },
  {
   "cell_type": "markdown",
   "id": "f5dce1ea-5fe5-4b27-a15b-dd28e663c514",
   "metadata": {},
   "source": [
    "**El modelo LDA ha identificado 5 temas principales en el dataset de comentarios, con las palabras clave más representativas de cada tema:**\n",
    "\n",
    "* **Tema 1: Conversaciones Generales y Opiniones Personales**\n",
    "\n",
    "_Palabras clave:_ \"like\", \"think\", \"know\", \"get\", \"go\", \"would\", \"comment\".\n",
    "\n",
    "Este tema parece centrarse en expresiones generales de opiniones y discusiones cotidianas, reflejando el lenguaje de los usuarios al compartir pensamientos y puntos de vista.\n",
    "\n",
    "* **Tema 2: Religión y Fe**\n",
    "\n",
    "_Palabras clave:_ \"church\", \"cathol\", \"god\", \"christian\", \"jesu\", \"believ\", \"religi\".\n",
    "\n",
    "Este tema sugiere conversaciones relacionadas con la religión, especialmente el cristianismo y la fe, lo cual puede indicar debates o discusiones sobre temas religiosos en el dataset.\n",
    "\n",
    "* **Tema 3: Género y Relaciones Sociales**\n",
    "\n",
    "_Palabras clave:_ \"peopl\", \"women\", \"men\", \"make\", \"want\".\n",
    "\n",
    "Se enfoca en cuestiones de género y relaciones entre hombres y mujeres, lo que podría reflejar discusiones sobre igualdad, roles de género, y temas relacionados con la sociedad.\n",
    "\n",
    "* **Tema 4: Economía, Impuestos y Gobierno**\n",
    "\n",
    "_Palabras clave:_ \"tax\", \"pay\", \"year\", \"govern\", \"state\", \"money\", \"work\".\n",
    "\n",
    "Este tema se asocia con asuntos económicos, políticas gubernamentales, impuestos y trabajo, lo cual indica la presencia de debates sobre políticas públicas y economía en el dataset.\n",
    "\n",
    "* **Tema 5: Política y Raza**\n",
    "\n",
    "_Palabras clave:_ \"white\", \"trump\", \"black\", \"vote\", \"right\", \"muslim\", \"american\".\n",
    "\n",
    "Refleja un enfoque en temas políticos y raciales, mencionando nombres de figuras políticas y asuntos de raza, lo que podría indicar conversaciones polarizadas sobre política y derechos civiles.\n",
    "\n",
    "**Conclusión General del LDA**\n",
    "\n",
    "El análisis LDA revela una diversidad de temas en los comentarios, cubriendo asuntos de opinión general, religión, género, economía y política. Estos resultados reflejan la naturaleza del dataset, que parece incluir debates con carga emocional y temas de controversia. Esto confirma que el dataset es adecuado para el análisis de sentimientos y la construcción de una red neuronal para clasificar estos comentarios de manera más precisa."
   ]
  },
  {
   "cell_type": "markdown",
   "id": "ce1cf873-6299-4836-9a54-222e37539494",
   "metadata": {
    "tags": []
   },
   "source": [
    "## **Construcción de una Red Neuronal para Clasificación de Sentimientos en Comentarios Tóxicos**"
   ]
  },
  {
   "cell_type": "markdown",
   "id": "d4804018-9bf4-44ea-864d-3fc91420753a",
   "metadata": {},
   "source": [
    "En esta sección, se desarrollará una red neuronal densa para abordar el problema de la clasificación de sentimientos en un dataset de comentarios tóxicos, enfocado en identificar si un comentario tiene un tono positivo, negativo o neutral. Este modelo permitirá analizar los sentimientos expresados en diferentes temas previamente identificados, como política, religión, raza, y género, mejorando así la comprensión del contenido emocional en los comentarios."
   ]
  },
  {
   "cell_type": "markdown",
   "id": "3dae0bdf-e972-4b1c-bdc5-ad892d35ff13",
   "metadata": {},
   "source": [
    "**Problema:** \n",
    "\n",
    "Determinar el sentimiento general de los comentarios relacionados con diferentes temas identificados previamente, clasificándolos como positivos, negativos o neutrales.\n",
    "\n",
    "**Justificación:**\n",
    "\n",
    "La clasificación de sentimientos permitirá moderar y analizar mejor el contenido en línea, proporcionando información útil sobre la naturaleza emocional de las discusiones en temas polémicos o sensibles."
   ]
  },
  {
   "cell_type": "markdown",
   "id": "a830b5fb-6704-4ec4-b86f-2384102bff67",
   "metadata": {},
   "source": [
    "**Objetivo**\n",
    "\n",
    "* Desarrollar una red neuronal densa de al menos dos o tres capas para clasificar los sentimientos de los comentarios.\n",
    "* Evaluar el rendimiento del modelo para determinar si es suficiente para abordar el problema o si se requieren capas adicionales para mejorar la precisión."
   ]
  },
  {
   "cell_type": "markdown",
   "id": "0c4ee1e8-36eb-4a90-b63a-cbb978ee2ea3",
   "metadata": {},
   "source": [
    "* **Paso 1: Preparación de los datos de entrada y salida**"
   ]
  },
  {
   "cell_type": "code",
   "execution_count": 17,
   "id": "a8df5cad-ee7d-4b58-8519-038e08ca16f6",
   "metadata": {
    "tags": []
   },
   "outputs": [
    {
     "name": "stdout",
     "output_type": "stream",
     "text": [
      "Forma de X_train: (188068, 5000)\n",
      "Forma de y_train_onehot: (188068, 3)\n",
      "Forma de X_test: (47017, 5000)\n",
      "Forma de y_test_onehot: (47017, 3)\n"
     ]
    }
   ],
   "source": [
    "from sklearn.model_selection import train_test_split\n",
    "from sklearn.feature_extraction.text import TfidfVectorizer\n",
    "from sklearn.preprocessing import LabelEncoder, OneHotEncoder\n",
    "\n",
    "# 1. Separar el dataset en conjunto de entrenamiento y prueba ANTES de aplicar TF-IDF\n",
    "X_text_train, X_text_test, y_train, y_test = train_test_split(\n",
    "    df['comment_text'], df['sentiment_score'], test_size=0.2, random_state=42\n",
    ")\n",
    "\n",
    "# 2. Aplicar TF-IDF al conjunto de entrenamiento y prueba de manera separada\n",
    "tfidf_vectorizer = TfidfVectorizer(max_features=5000)\n",
    "\n",
    "# Ajustar y transformar SOLO en el conjunto de entrenamiento\n",
    "X_train = tfidf_vectorizer.fit_transform(X_text_train)\n",
    "\n",
    "# Transformar el conjunto de prueba\n",
    "X_test = tfidf_vectorizer.transform(X_text_test)\n",
    "\n",
    "# 3. Preparar los datos de salida (clasificación de sentimiento)\n",
    "def sentiment_label(score):\n",
    "    if score > 0.1:\n",
    "        return 'positive'\n",
    "    elif score < -0.1:\n",
    "        return 'negative'\n",
    "    else:\n",
    "        return 'neutral'\n",
    "\n",
    "# Crear la columna de etiquetas de sentimiento en y_train y y_test\n",
    "y_train = y_train.apply(sentiment_label)\n",
    "y_test = y_test.apply(sentiment_label)\n",
    "\n",
    "# Codificar las etiquetas de sentimiento en formato numérico\n",
    "label_encoder = LabelEncoder()\n",
    "\n",
    "# Codificar y aplicar One-Hot Encoding\n",
    "y_train_encoded = label_encoder.fit_transform(y_train)\n",
    "y_test_encoded = label_encoder.transform(y_test)\n",
    "\n",
    "onehot_encoder = OneHotEncoder(sparse_output=False)\n",
    "y_train_onehot = onehot_encoder.fit_transform(y_train_encoded.reshape(-1, 1))\n",
    "y_test_onehot = onehot_encoder.transform(y_test_encoded.reshape(-1, 1))\n",
    "\n",
    "# Mostrar la forma de los conjuntos de datos\n",
    "print(f\"Forma de X_train: {X_train.shape}\")\n",
    "print(f\"Forma de y_train_onehot: {y_train_onehot.shape}\")\n",
    "print(f\"Forma de X_test: {X_test.shape}\")\n",
    "print(f\"Forma de y_test_onehot: {y_test_onehot.shape}\")"
   ]
  },
  {
   "cell_type": "markdown",
   "id": "17ac9864-7f60-44ea-a4db-9712f79e81f2",
   "metadata": {},
   "source": [
    "* X_train: 188,068 observaciones con 5,000 características (TF-IDF).\n",
    "* y_train: 188,068 observaciones con 3 clases de salida (positivo, negativo, neutral).\n",
    "* X_test: 47,017 observaciones con 5,000 características (TF-IDF).\n",
    "* y_test: 47,017 observaciones con 3 clases de salida."
   ]
  },
  {
   "cell_type": "markdown",
   "id": "b6f14cd3-7fde-4d87-aab2-4a76a04c54a9",
   "metadata": {},
   "source": [
    "* **Paso 2: Definición de la Red Neuronal**"
   ]
  },
  {
   "cell_type": "markdown",
   "id": "330bf81a-8cda-4520-98b2-36e3d7116d81",
   "metadata": {},
   "source": [
    "1. **Definición de la Arquitectura del Modelo**\n",
    "\n",
    "La red tendrá al menos dos capas densas ocultas con función de activación ReLU.\n",
    "La capa de salida usará softmax para clasificar los comentarios en tres clases: positiva, negativa o neutral.\n",
    "\n",
    "2. **Compilación y Entrenamiento del Modelo**\n",
    "\n",
    "Se usará la función de pérdida categorical_crossentropy (adecuada para clasificación multiclase), el optimizador Adam, y la métrica de precisión."
   ]
  },
  {
   "cell_type": "markdown",
   "id": "d619ad3b-edca-401d-9571-ccdf6ed6fa16",
   "metadata": {},
   "source": [
    "* **Prueba del primer modelo:**"
   ]
  },
  {
   "cell_type": "code",
   "execution_count": 18,
   "id": "736b6abe-b013-42d9-8931-2d0eca38a13c",
   "metadata": {
    "tags": []
   },
   "outputs": [
    {
     "name": "stderr",
     "output_type": "stream",
     "text": [
      "C:\\Users\\Leandra\\anaconda3\\Lib\\site-packages\\keras\\src\\layers\\core\\dense.py:87: UserWarning: Do not pass an `input_shape`/`input_dim` argument to a layer. When using Sequential models, prefer using an `Input(shape)` object as the first layer in the model instead.\n",
      "  super().__init__(activity_regularizer=activity_regularizer, **kwargs)\n"
     ]
    },
    {
     "name": "stdout",
     "output_type": "stream",
     "text": [
      "Epoch 1/10\n",
      "\u001b[1m4702/4702\u001b[0m \u001b[32m━━━━━━━━━━━━━━━━━━━━\u001b[0m\u001b[37m\u001b[0m \u001b[1m30s\u001b[0m 6ms/step - accuracy: 0.7622 - loss: 0.5894 - val_accuracy: 0.8626 - val_loss: 0.4055\n",
      "Epoch 2/10\n",
      "\u001b[1m4702/4702\u001b[0m \u001b[32m━━━━━━━━━━━━━━━━━━━━\u001b[0m\u001b[37m\u001b[0m \u001b[1m29s\u001b[0m 6ms/step - accuracy: 0.8736 - loss: 0.3683 - val_accuracy: 0.8691 - val_loss: 0.3937\n",
      "Epoch 3/10\n",
      "\u001b[1m4702/4702\u001b[0m \u001b[32m━━━━━━━━━━━━━━━━━━━━\u001b[0m\u001b[37m\u001b[0m \u001b[1m29s\u001b[0m 6ms/step - accuracy: 0.9003 - loss: 0.2916 - val_accuracy: 0.8653 - val_loss: 0.4092\n",
      "Epoch 4/10\n",
      "\u001b[1m4702/4702\u001b[0m \u001b[32m━━━━━━━━━━━━━━━━━━━━\u001b[0m\u001b[37m\u001b[0m \u001b[1m28s\u001b[0m 6ms/step - accuracy: 0.9352 - loss: 0.1935 - val_accuracy: 0.8567 - val_loss: 0.4906\n",
      "Epoch 5/10\n",
      "\u001b[1m4702/4702\u001b[0m \u001b[32m━━━━━━━━━━━━━━━━━━━━\u001b[0m\u001b[37m\u001b[0m \u001b[1m29s\u001b[0m 6ms/step - accuracy: 0.9639 - loss: 0.1076 - val_accuracy: 0.8433 - val_loss: 0.6555\n",
      "Epoch 6/10\n",
      "\u001b[1m4702/4702\u001b[0m \u001b[32m━━━━━━━━━━━━━━━━━━━━\u001b[0m\u001b[37m\u001b[0m \u001b[1m29s\u001b[0m 6ms/step - accuracy: 0.9823 - loss: 0.0556 - val_accuracy: 0.8404 - val_loss: 0.8897\n",
      "Epoch 7/10\n",
      "\u001b[1m4702/4702\u001b[0m \u001b[32m━━━━━━━━━━━━━━━━━━━━\u001b[0m\u001b[37m\u001b[0m \u001b[1m29s\u001b[0m 6ms/step - accuracy: 0.9912 - loss: 0.0308 - val_accuracy: 0.8373 - val_loss: 1.0966\n",
      "Epoch 8/10\n",
      "\u001b[1m4702/4702\u001b[0m \u001b[32m━━━━━━━━━━━━━━━━━━━━\u001b[0m\u001b[37m\u001b[0m \u001b[1m28s\u001b[0m 6ms/step - accuracy: 0.9939 - loss: 0.0210 - val_accuracy: 0.8316 - val_loss: 1.2750\n",
      "Epoch 9/10\n",
      "\u001b[1m4702/4702\u001b[0m \u001b[32m━━━━━━━━━━━━━━━━━━━━\u001b[0m\u001b[37m\u001b[0m \u001b[1m28s\u001b[0m 6ms/step - accuracy: 0.9955 - loss: 0.0161 - val_accuracy: 0.8338 - val_loss: 1.4001\n",
      "Epoch 10/10\n",
      "\u001b[1m4702/4702\u001b[0m \u001b[32m━━━━━━━━━━━━━━━━━━━━\u001b[0m\u001b[37m\u001b[0m \u001b[1m28s\u001b[0m 6ms/step - accuracy: 0.9964 - loss: 0.0122 - val_accuracy: 0.8316 - val_loss: 1.5011\n",
      "\u001b[1m1470/1470\u001b[0m \u001b[32m━━━━━━━━━━━━━━━━━━━━\u001b[0m\u001b[37m\u001b[0m \u001b[1m5s\u001b[0m 3ms/step - accuracy: 0.8310 - loss: 1.5187\n"
     ]
    },
    {
     "data": {
      "text/html": [
       "<pre style=\"white-space:pre;overflow-x:auto;line-height:normal;font-family:Menlo,'DejaVu Sans Mono',consolas,'Courier New',monospace\"><span style=\"font-weight: bold\">Model: \"sequential\"</span>\n",
       "</pre>\n"
      ],
      "text/plain": [
       "\u001b[1mModel: \"sequential\"\u001b[0m\n"
      ]
     },
     "metadata": {},
     "output_type": "display_data"
    },
    {
     "data": {
      "text/html": [
       "<pre style=\"white-space:pre;overflow-x:auto;line-height:normal;font-family:Menlo,'DejaVu Sans Mono',consolas,'Courier New',monospace\">┏━━━━━━━━━━━━━━━━━━━━━━━━━━━━━━━━━┳━━━━━━━━━━━━━━━━━━━━━━━━┳━━━━━━━━━━━━━━━┓\n",
       "┃<span style=\"font-weight: bold\"> Layer (type)                    </span>┃<span style=\"font-weight: bold\"> Output Shape           </span>┃<span style=\"font-weight: bold\">       Param # </span>┃\n",
       "┡━━━━━━━━━━━━━━━━━━━━━━━━━━━━━━━━━╇━━━━━━━━━━━━━━━━━━━━━━━━╇━━━━━━━━━━━━━━━┩\n",
       "│ dense (<span style=\"color: #0087ff; text-decoration-color: #0087ff\">Dense</span>)                   │ (<span style=\"color: #00d7ff; text-decoration-color: #00d7ff\">None</span>, <span style=\"color: #00af00; text-decoration-color: #00af00\">128</span>)            │       <span style=\"color: #00af00; text-decoration-color: #00af00\">640,128</span> │\n",
       "├─────────────────────────────────┼────────────────────────┼───────────────┤\n",
       "│ dense_1 (<span style=\"color: #0087ff; text-decoration-color: #0087ff\">Dense</span>)                 │ (<span style=\"color: #00d7ff; text-decoration-color: #00d7ff\">None</span>, <span style=\"color: #00af00; text-decoration-color: #00af00\">64</span>)             │         <span style=\"color: #00af00; text-decoration-color: #00af00\">8,256</span> │\n",
       "├─────────────────────────────────┼────────────────────────┼───────────────┤\n",
       "│ dense_2 (<span style=\"color: #0087ff; text-decoration-color: #0087ff\">Dense</span>)                 │ (<span style=\"color: #00d7ff; text-decoration-color: #00d7ff\">None</span>, <span style=\"color: #00af00; text-decoration-color: #00af00\">3</span>)              │           <span style=\"color: #00af00; text-decoration-color: #00af00\">195</span> │\n",
       "└─────────────────────────────────┴────────────────────────┴───────────────┘\n",
       "</pre>\n"
      ],
      "text/plain": [
       "┏━━━━━━━━━━━━━━━━━━━━━━━━━━━━━━━━━┳━━━━━━━━━━━━━━━━━━━━━━━━┳━━━━━━━━━━━━━━━┓\n",
       "┃\u001b[1m \u001b[0m\u001b[1mLayer (type)                   \u001b[0m\u001b[1m \u001b[0m┃\u001b[1m \u001b[0m\u001b[1mOutput Shape          \u001b[0m\u001b[1m \u001b[0m┃\u001b[1m \u001b[0m\u001b[1m      Param #\u001b[0m\u001b[1m \u001b[0m┃\n",
       "┡━━━━━━━━━━━━━━━━━━━━━━━━━━━━━━━━━╇━━━━━━━━━━━━━━━━━━━━━━━━╇━━━━━━━━━━━━━━━┩\n",
       "│ dense (\u001b[38;5;33mDense\u001b[0m)                   │ (\u001b[38;5;45mNone\u001b[0m, \u001b[38;5;34m128\u001b[0m)            │       \u001b[38;5;34m640,128\u001b[0m │\n",
       "├─────────────────────────────────┼────────────────────────┼───────────────┤\n",
       "│ dense_1 (\u001b[38;5;33mDense\u001b[0m)                 │ (\u001b[38;5;45mNone\u001b[0m, \u001b[38;5;34m64\u001b[0m)             │         \u001b[38;5;34m8,256\u001b[0m │\n",
       "├─────────────────────────────────┼────────────────────────┼───────────────┤\n",
       "│ dense_2 (\u001b[38;5;33mDense\u001b[0m)                 │ (\u001b[38;5;45mNone\u001b[0m, \u001b[38;5;34m3\u001b[0m)              │           \u001b[38;5;34m195\u001b[0m │\n",
       "└─────────────────────────────────┴────────────────────────┴───────────────┘\n"
      ]
     },
     "metadata": {},
     "output_type": "display_data"
    },
    {
     "data": {
      "text/html": [
       "<pre style=\"white-space:pre;overflow-x:auto;line-height:normal;font-family:Menlo,'DejaVu Sans Mono',consolas,'Courier New',monospace\"><span style=\"font-weight: bold\"> Total params: </span><span style=\"color: #00af00; text-decoration-color: #00af00\">1,945,739</span> (7.42 MB)\n",
       "</pre>\n"
      ],
      "text/plain": [
       "\u001b[1m Total params: \u001b[0m\u001b[38;5;34m1,945,739\u001b[0m (7.42 MB)\n"
      ]
     },
     "metadata": {},
     "output_type": "display_data"
    },
    {
     "data": {
      "text/html": [
       "<pre style=\"white-space:pre;overflow-x:auto;line-height:normal;font-family:Menlo,'DejaVu Sans Mono',consolas,'Courier New',monospace\"><span style=\"font-weight: bold\"> Trainable params: </span><span style=\"color: #00af00; text-decoration-color: #00af00\">648,579</span> (2.47 MB)\n",
       "</pre>\n"
      ],
      "text/plain": [
       "\u001b[1m Trainable params: \u001b[0m\u001b[38;5;34m648,579\u001b[0m (2.47 MB)\n"
      ]
     },
     "metadata": {},
     "output_type": "display_data"
    },
    {
     "data": {
      "text/html": [
       "<pre style=\"white-space:pre;overflow-x:auto;line-height:normal;font-family:Menlo,'DejaVu Sans Mono',consolas,'Courier New',monospace\"><span style=\"font-weight: bold\"> Non-trainable params: </span><span style=\"color: #00af00; text-decoration-color: #00af00\">0</span> (0.00 B)\n",
       "</pre>\n"
      ],
      "text/plain": [
       "\u001b[1m Non-trainable params: \u001b[0m\u001b[38;5;34m0\u001b[0m (0.00 B)\n"
      ]
     },
     "metadata": {},
     "output_type": "display_data"
    },
    {
     "data": {
      "text/html": [
       "<pre style=\"white-space:pre;overflow-x:auto;line-height:normal;font-family:Menlo,'DejaVu Sans Mono',consolas,'Courier New',monospace\"><span style=\"font-weight: bold\"> Optimizer params: </span><span style=\"color: #00af00; text-decoration-color: #00af00\">1,297,160</span> (4.95 MB)\n",
       "</pre>\n"
      ],
      "text/plain": [
       "\u001b[1m Optimizer params: \u001b[0m\u001b[38;5;34m1,297,160\u001b[0m (4.95 MB)\n"
      ]
     },
     "metadata": {},
     "output_type": "display_data"
    },
    {
     "name": "stdout",
     "output_type": "stream",
     "text": [
      "\n",
      "Precisión en el conjunto de prueba: 0.83\n"
     ]
    }
   ],
   "source": [
    "import tensorflow as tf\n",
    "from tensorflow.keras.models import Sequential\n",
    "from tensorflow.keras.layers import Dense\n",
    "\n",
    "# 1. Definir la arquitectura de la red neuronal\n",
    "model = Sequential([\n",
    "    Dense(128, input_shape=(5000,), activation='relu'),  # Capa oculta 1\n",
    "    Dense(64, activation='relu'),  # Capa oculta 2\n",
    "    Dense(3, activation='softmax')  # Capa de salida para 3 clases\n",
    "])\n",
    "\n",
    "# 2. Compilar el modelo\n",
    "model.compile(\n",
    "    optimizer='adam',\n",
    "    loss='categorical_crossentropy',\n",
    "    metrics=['accuracy']\n",
    ")\n",
    "\n",
    "# 3. Entrenar el modelo con el conjunto de datos corregido\n",
    "history = model.fit(\n",
    "    X_train, y_train_onehot,  # Ahora usa y_train_onehot\n",
    "    validation_split=0.2,  # 20% del conjunto de entrenamiento para validación\n",
    "    epochs=10,  \n",
    "    batch_size=32,\n",
    "    verbose=1\n",
    ")\n",
    "\n",
    "# 4. Evaluar el modelo con el conjunto de prueba\n",
    "test_loss, test_accuracy = model.evaluate(X_test, y_test_onehot, verbose=1)\n",
    "\n",
    "# 5. Mostrar el resumen del modelo y los resultados de prueba\n",
    "model.summary()\n",
    "print(f\"\\nPrecisión en el conjunto de prueba: {test_accuracy:.2f}\")"
   ]
  },
  {
   "cell_type": "markdown",
   "id": "7e832a0c-95c1-4b41-b4ab-64a6433e138d",
   "metadata": {},
   "source": [
    "* **Precisión de Entrenamiento:** El modelo alcanzó una precisión de hasta 99% en el conjunto de entrenamiento, lo cual indica que el modelo estaba aprendiendo bien los patrones del conjunto de entrenamiento. La pérdida de entrenamiento disminuyó de manera constante, mostrando que el modelo fue capaz de ajustarse a los datos con facilidad.\n",
    "\n",
    "* **Precisión de Validación:** La precisión de validación comenzó en 86%, lo cual es un buen indicador inicial de generalización. Sin embargo, a medida que avanzaban las épocas, la precisión de validación cayó progresivamente hasta estabilizarse en 83%. La pérdida de validación mostró un aumento significativo después de la cuarta época, lo cual es un claro signo de sobreajuste.\n",
    "\n",
    "* **Se decide probar cambio de modelo:** El comportamiento del modelo indica un problema de sobreajuste, ya que la diferencia entre la precisión de entrenamiento y la de validación se amplió con cada época. Esto sugiere que el modelo memoriza los datos de entrenamiento en lugar de aprender características más generales que puedan aplicarse bien a los datos de validación.\n",
    "\n",
    "La falta de técnicas de regularización, como el uso de dropout o regularización L2, y una arquitectura simple de dos capas pueden haber contribuido al sobreajuste observado.\n",
    "\n",
    "\n",
    "Para abordar el problema de sobreajuste, se decide:\n",
    "\n",
    "* Incorporar regularización L2 y/o dropout en las capas ocultas para mejorar la generalización del modelo.\n",
    "* Ajustar la cantidad de neuronas en las capas ocultas o probar con una arquitectura más compleja que pueda capturar mejor las características de los datos sin memorizar el conjunto de entrenamiento."
   ]
  },
  {
   "cell_type": "markdown",
   "id": "d99c8c81-7360-4276-9a09-97ee0182a921",
   "metadata": {},
   "source": [
    "* **Prueba del segundo modelo:**"
   ]
  },
  {
   "cell_type": "code",
   "execution_count": 19,
   "id": "29648d9f-a92a-4cac-9d21-cdc4ebadbf3f",
   "metadata": {
    "tags": []
   },
   "outputs": [
    {
     "name": "stdout",
     "output_type": "stream",
     "text": [
      "Epoch 1/10\n",
      "\u001b[1m4702/4702\u001b[0m \u001b[32m━━━━━━━━━━━━━━━━━━━━\u001b[0m\u001b[37m\u001b[0m \u001b[1m32s\u001b[0m 6ms/step - accuracy: 0.4995 - loss: 1.1717 - val_accuracy: 0.6595 - val_loss: 1.0539\n",
      "Epoch 2/10\n",
      "\u001b[1m4702/4702\u001b[0m \u001b[32m━━━━━━━━━━━━━━━━━━━━\u001b[0m\u001b[37m\u001b[0m \u001b[1m30s\u001b[0m 6ms/step - accuracy: 0.6438 - loss: 1.0672 - val_accuracy: 0.6769 - val_loss: 1.0106\n",
      "Epoch 3/10\n",
      "\u001b[1m4702/4702\u001b[0m \u001b[32m━━━━━━━━━━━━━━━━━━━━\u001b[0m\u001b[37m\u001b[0m \u001b[1m31s\u001b[0m 7ms/step - accuracy: 0.6567 - loss: 1.0477 - val_accuracy: 0.6817 - val_loss: 0.9803\n",
      "Epoch 4/10\n",
      "\u001b[1m4702/4702\u001b[0m \u001b[32m━━━━━━━━━━━━━━━━━━━━\u001b[0m\u001b[37m\u001b[0m \u001b[1m31s\u001b[0m 7ms/step - accuracy: 0.6624 - loss: 1.0326 - val_accuracy: 0.7427 - val_loss: 0.9595\n",
      "Epoch 5/10\n",
      "\u001b[1m4702/4702\u001b[0m \u001b[32m━━━━━━━━━━━━━━━━━━━━\u001b[0m\u001b[37m\u001b[0m \u001b[1m31s\u001b[0m 7ms/step - accuracy: 0.7025 - loss: 1.0249 - val_accuracy: 0.7586 - val_loss: 0.9452\n",
      "Epoch 6/10\n",
      "\u001b[1m4702/4702\u001b[0m \u001b[32m━━━━━━━━━━━━━━━━━━━━\u001b[0m\u001b[37m\u001b[0m \u001b[1m31s\u001b[0m 7ms/step - accuracy: 0.7123 - loss: 1.0170 - val_accuracy: 0.7477 - val_loss: 0.9394\n",
      "Epoch 7/10\n",
      "\u001b[1m4702/4702\u001b[0m \u001b[32m━━━━━━━━━━━━━━━━━━━━\u001b[0m\u001b[37m\u001b[0m \u001b[1m31s\u001b[0m 7ms/step - accuracy: 0.7169 - loss: 1.0142 - val_accuracy: 0.7582 - val_loss: 0.9380\n",
      "Epoch 8/10\n",
      "\u001b[1m4702/4702\u001b[0m \u001b[32m━━━━━━━━━━━━━━━━━━━━\u001b[0m\u001b[37m\u001b[0m \u001b[1m31s\u001b[0m 7ms/step - accuracy: 0.7151 - loss: 1.0176 - val_accuracy: 0.7601 - val_loss: 0.9503\n",
      "Epoch 9/10\n",
      "\u001b[1m4702/4702\u001b[0m \u001b[32m━━━━━━━━━━━━━━━━━━━━\u001b[0m\u001b[37m\u001b[0m \u001b[1m31s\u001b[0m 6ms/step - accuracy: 0.7172 - loss: 1.0197 - val_accuracy: 0.7642 - val_loss: 0.9355\n",
      "Epoch 10/10\n",
      "\u001b[1m4702/4702\u001b[0m \u001b[32m━━━━━━━━━━━━━━━━━━━━\u001b[0m\u001b[37m\u001b[0m \u001b[1m31s\u001b[0m 6ms/step - accuracy: 0.7151 - loss: 1.0232 - val_accuracy: 0.7527 - val_loss: 0.9558\n",
      "\u001b[1m1470/1470\u001b[0m \u001b[32m━━━━━━━━━━━━━━━━━━━━\u001b[0m\u001b[37m\u001b[0m \u001b[1m4s\u001b[0m 3ms/step - accuracy: 0.7579 - loss: 0.9557\n"
     ]
    },
    {
     "data": {
      "text/html": [
       "<pre style=\"white-space:pre;overflow-x:auto;line-height:normal;font-family:Menlo,'DejaVu Sans Mono',consolas,'Courier New',monospace\"><span style=\"font-weight: bold\">Model: \"sequential_1\"</span>\n",
       "</pre>\n"
      ],
      "text/plain": [
       "\u001b[1mModel: \"sequential_1\"\u001b[0m\n"
      ]
     },
     "metadata": {},
     "output_type": "display_data"
    },
    {
     "data": {
      "text/html": [
       "<pre style=\"white-space:pre;overflow-x:auto;line-height:normal;font-family:Menlo,'DejaVu Sans Mono',consolas,'Courier New',monospace\">┏━━━━━━━━━━━━━━━━━━━━━━━━━━━━━━━━━┳━━━━━━━━━━━━━━━━━━━━━━━━┳━━━━━━━━━━━━━━━┓\n",
       "┃<span style=\"font-weight: bold\"> Layer (type)                    </span>┃<span style=\"font-weight: bold\"> Output Shape           </span>┃<span style=\"font-weight: bold\">       Param # </span>┃\n",
       "┡━━━━━━━━━━━━━━━━━━━━━━━━━━━━━━━━━╇━━━━━━━━━━━━━━━━━━━━━━━━╇━━━━━━━━━━━━━━━┩\n",
       "│ dense_3 (<span style=\"color: #0087ff; text-decoration-color: #0087ff\">Dense</span>)                 │ (<span style=\"color: #00d7ff; text-decoration-color: #00d7ff\">None</span>, <span style=\"color: #00af00; text-decoration-color: #00af00\">128</span>)            │       <span style=\"color: #00af00; text-decoration-color: #00af00\">640,128</span> │\n",
       "├─────────────────────────────────┼────────────────────────┼───────────────┤\n",
       "│ dropout (<span style=\"color: #0087ff; text-decoration-color: #0087ff\">Dropout</span>)               │ (<span style=\"color: #00d7ff; text-decoration-color: #00d7ff\">None</span>, <span style=\"color: #00af00; text-decoration-color: #00af00\">128</span>)            │             <span style=\"color: #00af00; text-decoration-color: #00af00\">0</span> │\n",
       "├─────────────────────────────────┼────────────────────────┼───────────────┤\n",
       "│ dense_4 (<span style=\"color: #0087ff; text-decoration-color: #0087ff\">Dense</span>)                 │ (<span style=\"color: #00d7ff; text-decoration-color: #00d7ff\">None</span>, <span style=\"color: #00af00; text-decoration-color: #00af00\">64</span>)             │         <span style=\"color: #00af00; text-decoration-color: #00af00\">8,256</span> │\n",
       "├─────────────────────────────────┼────────────────────────┼───────────────┤\n",
       "│ dropout_1 (<span style=\"color: #0087ff; text-decoration-color: #0087ff\">Dropout</span>)             │ (<span style=\"color: #00d7ff; text-decoration-color: #00d7ff\">None</span>, <span style=\"color: #00af00; text-decoration-color: #00af00\">64</span>)             │             <span style=\"color: #00af00; text-decoration-color: #00af00\">0</span> │\n",
       "├─────────────────────────────────┼────────────────────────┼───────────────┤\n",
       "│ dense_5 (<span style=\"color: #0087ff; text-decoration-color: #0087ff\">Dense</span>)                 │ (<span style=\"color: #00d7ff; text-decoration-color: #00d7ff\">None</span>, <span style=\"color: #00af00; text-decoration-color: #00af00\">3</span>)              │           <span style=\"color: #00af00; text-decoration-color: #00af00\">195</span> │\n",
       "└─────────────────────────────────┴────────────────────────┴───────────────┘\n",
       "</pre>\n"
      ],
      "text/plain": [
       "┏━━━━━━━━━━━━━━━━━━━━━━━━━━━━━━━━━┳━━━━━━━━━━━━━━━━━━━━━━━━┳━━━━━━━━━━━━━━━┓\n",
       "┃\u001b[1m \u001b[0m\u001b[1mLayer (type)                   \u001b[0m\u001b[1m \u001b[0m┃\u001b[1m \u001b[0m\u001b[1mOutput Shape          \u001b[0m\u001b[1m \u001b[0m┃\u001b[1m \u001b[0m\u001b[1m      Param #\u001b[0m\u001b[1m \u001b[0m┃\n",
       "┡━━━━━━━━━━━━━━━━━━━━━━━━━━━━━━━━━╇━━━━━━━━━━━━━━━━━━━━━━━━╇━━━━━━━━━━━━━━━┩\n",
       "│ dense_3 (\u001b[38;5;33mDense\u001b[0m)                 │ (\u001b[38;5;45mNone\u001b[0m, \u001b[38;5;34m128\u001b[0m)            │       \u001b[38;5;34m640,128\u001b[0m │\n",
       "├─────────────────────────────────┼────────────────────────┼───────────────┤\n",
       "│ dropout (\u001b[38;5;33mDropout\u001b[0m)               │ (\u001b[38;5;45mNone\u001b[0m, \u001b[38;5;34m128\u001b[0m)            │             \u001b[38;5;34m0\u001b[0m │\n",
       "├─────────────────────────────────┼────────────────────────┼───────────────┤\n",
       "│ dense_4 (\u001b[38;5;33mDense\u001b[0m)                 │ (\u001b[38;5;45mNone\u001b[0m, \u001b[38;5;34m64\u001b[0m)             │         \u001b[38;5;34m8,256\u001b[0m │\n",
       "├─────────────────────────────────┼────────────────────────┼───────────────┤\n",
       "│ dropout_1 (\u001b[38;5;33mDropout\u001b[0m)             │ (\u001b[38;5;45mNone\u001b[0m, \u001b[38;5;34m64\u001b[0m)             │             \u001b[38;5;34m0\u001b[0m │\n",
       "├─────────────────────────────────┼────────────────────────┼───────────────┤\n",
       "│ dense_5 (\u001b[38;5;33mDense\u001b[0m)                 │ (\u001b[38;5;45mNone\u001b[0m, \u001b[38;5;34m3\u001b[0m)              │           \u001b[38;5;34m195\u001b[0m │\n",
       "└─────────────────────────────────┴────────────────────────┴───────────────┘\n"
      ]
     },
     "metadata": {},
     "output_type": "display_data"
    },
    {
     "data": {
      "text/html": [
       "<pre style=\"white-space:pre;overflow-x:auto;line-height:normal;font-family:Menlo,'DejaVu Sans Mono',consolas,'Courier New',monospace\"><span style=\"font-weight: bold\"> Total params: </span><span style=\"color: #00af00; text-decoration-color: #00af00\">1,945,739</span> (7.42 MB)\n",
       "</pre>\n"
      ],
      "text/plain": [
       "\u001b[1m Total params: \u001b[0m\u001b[38;5;34m1,945,739\u001b[0m (7.42 MB)\n"
      ]
     },
     "metadata": {},
     "output_type": "display_data"
    },
    {
     "data": {
      "text/html": [
       "<pre style=\"white-space:pre;overflow-x:auto;line-height:normal;font-family:Menlo,'DejaVu Sans Mono',consolas,'Courier New',monospace\"><span style=\"font-weight: bold\"> Trainable params: </span><span style=\"color: #00af00; text-decoration-color: #00af00\">648,579</span> (2.47 MB)\n",
       "</pre>\n"
      ],
      "text/plain": [
       "\u001b[1m Trainable params: \u001b[0m\u001b[38;5;34m648,579\u001b[0m (2.47 MB)\n"
      ]
     },
     "metadata": {},
     "output_type": "display_data"
    },
    {
     "data": {
      "text/html": [
       "<pre style=\"white-space:pre;overflow-x:auto;line-height:normal;font-family:Menlo,'DejaVu Sans Mono',consolas,'Courier New',monospace\"><span style=\"font-weight: bold\"> Non-trainable params: </span><span style=\"color: #00af00; text-decoration-color: #00af00\">0</span> (0.00 B)\n",
       "</pre>\n"
      ],
      "text/plain": [
       "\u001b[1m Non-trainable params: \u001b[0m\u001b[38;5;34m0\u001b[0m (0.00 B)\n"
      ]
     },
     "metadata": {},
     "output_type": "display_data"
    },
    {
     "data": {
      "text/html": [
       "<pre style=\"white-space:pre;overflow-x:auto;line-height:normal;font-family:Menlo,'DejaVu Sans Mono',consolas,'Courier New',monospace\"><span style=\"font-weight: bold\"> Optimizer params: </span><span style=\"color: #00af00; text-decoration-color: #00af00\">1,297,160</span> (4.95 MB)\n",
       "</pre>\n"
      ],
      "text/plain": [
       "\u001b[1m Optimizer params: \u001b[0m\u001b[38;5;34m1,297,160\u001b[0m (4.95 MB)\n"
      ]
     },
     "metadata": {},
     "output_type": "display_data"
    },
    {
     "name": "stdout",
     "output_type": "stream",
     "text": [
      "\n",
      "Precisión en el conjunto de prueba: 0.76\n"
     ]
    }
   ],
   "source": [
    "import tensorflow as tf\n",
    "from tensorflow.keras.models import Sequential\n",
    "from tensorflow.keras.layers import Dense, Dropout\n",
    "from tensorflow.keras.regularizers import l2\n",
    "\n",
    "# 1. arquitectura de la red neuronal con regularización L2 y Dropout\n",
    "model = Sequential([\n",
    "    Dense(128, input_shape=(5000,), activation='relu', kernel_regularizer=l2(0.01)),  # Capa oculta 1 con regularización L2\n",
    "    Dropout(0.5),  # Dropout al 50%\n",
    "    Dense(64, activation='relu', kernel_regularizer=l2(0.01)),  # Capa oculta 2 con regularización L2\n",
    "    Dropout(0.5),  # Dropout al 50%\n",
    "    Dense(3, activation='softmax')  # Capa de salida para 3 clases\n",
    "])\n",
    "\n",
    "# 2. Compilar el modelo\n",
    "model.compile(\n",
    "    optimizer='adam',\n",
    "    loss='categorical_crossentropy',\n",
    "    metrics=['accuracy']\n",
    ")\n",
    "\n",
    "# 3. Entrenar el modelo con los datos corregidos\n",
    "history = model.fit(\n",
    "    X_train, y_train_onehot,\n",
    "    validation_split=0.2,  # 20% del conjunto de entrenamiento para validación\n",
    "    epochs=10,\n",
    "    batch_size=32,\n",
    "    verbose=1\n",
    ")\n",
    "\n",
    "# 4. Evaluar el modelo en el conjunto de prueba\n",
    "test_loss, test_accuracy = model.evaluate(X_test, y_test_onehot, verbose=1)\n",
    "\n",
    "# 5. Mostrar el resumen del modelo y los resultados de prueba\n",
    "model.summary()\n",
    "print(f\"\\nPrecisión en el conjunto de prueba: {test_accuracy:.2f}\")"
   ]
  },
  {
   "cell_type": "markdown",
   "id": "4542ecb9-1dab-4259-b409-999dfd8b6f87",
   "metadata": {},
   "source": [
    "* **Precisión de Entrenamiento y Validación:** La precisión de entrenamiento se estabilizó alrededor del 71%, mientras que la precisión de validación alcanzó hasta el 76%. Aunque esto muestra una mejora en la generalización y un menor sobreajuste, la precisión sigue siendo más baja que en el primer modelo, lo cual indica que la regularización limitó la capacidad del modelo para aprender todos los patrones presentes en los datos.\n",
    "\n",
    "* **Pérdida de Entrenamiento y Validación:** La pérdida de entrenamiento fue más alta en este modelo, lo que es esperado debido a la penalización de pesos por la regularización L2. La pérdida de validación fue más estable que en el primer modelo, lo que indica que las técnicas de regularización y dropout ayudaron a reducir el sobreajuste, aunque el modelo mostró un aprendizaje más conservador.\n",
    "\n",
    "* **Decisión de ajustar el modelo:** Aunque este modelo logró mejorar la generalización, la combinación de regularización L2 y dropout fue un poco estricta, lo que limitó la flexibilidad del modelo para capturar patrones más complejos del dataset. Se considera reducir el dropout o el coeficiente de regularización L2 para permitir un aprendizaje más flexible sin comprometer demasiado la generalización. Además, se podrían explorar arquitecturas más complejas para mejorar la precisión."
   ]
  },
  {
   "cell_type": "markdown",
   "id": "04ddf9f2-370c-46d3-8db6-fa6547087b0a",
   "metadata": {},
   "source": [
    "* **Prueba del tercer modelo:**"
   ]
  },
  {
   "cell_type": "code",
   "execution_count": 20,
   "id": "ed60f543-f920-4c67-827b-923dbba59efd",
   "metadata": {
    "tags": []
   },
   "outputs": [
    {
     "name": "stdout",
     "output_type": "stream",
     "text": [
      "Epoch 1/15\n",
      "\u001b[1m4702/4702\u001b[0m \u001b[32m━━━━━━━━━━━━━━━━━━━━\u001b[0m\u001b[37m\u001b[0m \u001b[1m33s\u001b[0m 7ms/step - accuracy: 0.4365 - loss: 1.1143 - val_accuracy: 0.4433 - val_loss: 1.0458\n",
      "Epoch 2/15\n",
      "\u001b[1m4702/4702\u001b[0m \u001b[32m━━━━━━━━━━━━━━━━━━━━\u001b[0m\u001b[37m\u001b[0m \u001b[1m32s\u001b[0m 7ms/step - accuracy: 0.4432 - loss: 1.0463 - val_accuracy: 0.4433 - val_loss: 1.0457\n",
      "Epoch 3/15\n",
      "\u001b[1m4702/4702\u001b[0m \u001b[32m━━━━━━━━━━━━━━━━━━━━\u001b[0m\u001b[37m\u001b[0m \u001b[1m33s\u001b[0m 7ms/step - accuracy: 0.4422 - loss: 1.0469 - val_accuracy: 0.4433 - val_loss: 1.0460\n",
      "Epoch 4/15\n",
      "\u001b[1m4702/4702\u001b[0m \u001b[32m━━━━━━━━━━━━━━━━━━━━\u001b[0m\u001b[37m\u001b[0m \u001b[1m32s\u001b[0m 7ms/step - accuracy: 0.4429 - loss: 1.0456 - val_accuracy: 0.4433 - val_loss: 1.0458\n",
      "Epoch 5/15\n",
      "\u001b[1m4702/4702\u001b[0m \u001b[32m━━━━━━━━━━━━━━━━━━━━\u001b[0m\u001b[37m\u001b[0m \u001b[1m32s\u001b[0m 7ms/step - accuracy: 0.4441 - loss: 1.0453 - val_accuracy: 0.4433 - val_loss: 1.0457\n",
      "Epoch 6/15\n",
      "\u001b[1m4702/4702\u001b[0m \u001b[32m━━━━━━━━━━━━━━━━━━━━\u001b[0m\u001b[37m\u001b[0m \u001b[1m32s\u001b[0m 7ms/step - accuracy: 0.4426 - loss: 1.0465 - val_accuracy: 0.4433 - val_loss: 1.0457\n",
      "Epoch 7/15\n",
      "\u001b[1m4702/4702\u001b[0m \u001b[32m━━━━━━━━━━━━━━━━━━━━\u001b[0m\u001b[37m\u001b[0m \u001b[1m31s\u001b[0m 7ms/step - accuracy: 0.4448 - loss: 1.0445 - val_accuracy: 0.4433 - val_loss: 1.0458\n",
      "Epoch 8/15\n",
      "\u001b[1m4702/4702\u001b[0m \u001b[32m━━━━━━━━━━━━━━━━━━━━\u001b[0m\u001b[37m\u001b[0m \u001b[1m33s\u001b[0m 7ms/step - accuracy: 0.4466 - loss: 1.0450 - val_accuracy: 0.4433 - val_loss: 1.0457\n",
      "Epoch 9/15\n",
      "\u001b[1m4702/4702\u001b[0m \u001b[32m━━━━━━━━━━━━━━━━━━━━\u001b[0m\u001b[37m\u001b[0m \u001b[1m31s\u001b[0m 7ms/step - accuracy: 0.4431 - loss: 1.0468 - val_accuracy: 0.4433 - val_loss: 1.0458\n",
      "Epoch 10/15\n",
      "\u001b[1m4702/4702\u001b[0m \u001b[32m━━━━━━━━━━━━━━━━━━━━\u001b[0m\u001b[37m\u001b[0m \u001b[1m31s\u001b[0m 7ms/step - accuracy: 0.4412 - loss: 1.0473 - val_accuracy: 0.4433 - val_loss: 1.0457\n",
      "Epoch 11/15\n",
      "\u001b[1m4702/4702\u001b[0m \u001b[32m━━━━━━━━━━━━━━━━━━━━\u001b[0m\u001b[37m\u001b[0m \u001b[1m32s\u001b[0m 7ms/step - accuracy: 0.4424 - loss: 1.0464 - val_accuracy: 0.4433 - val_loss: 1.0457\n",
      "Epoch 12/15\n",
      "\u001b[1m4702/4702\u001b[0m \u001b[32m━━━━━━━━━━━━━━━━━━━━\u001b[0m\u001b[37m\u001b[0m \u001b[1m32s\u001b[0m 7ms/step - accuracy: 0.4441 - loss: 1.0454 - val_accuracy: 0.4433 - val_loss: 1.0457\n",
      "Epoch 13/15\n",
      "\u001b[1m4702/4702\u001b[0m \u001b[32m━━━━━━━━━━━━━━━━━━━━\u001b[0m\u001b[37m\u001b[0m \u001b[1m31s\u001b[0m 7ms/step - accuracy: 0.4450 - loss: 1.0450 - val_accuracy: 0.4433 - val_loss: 1.0457\n",
      "Epoch 14/15\n",
      "\u001b[1m4702/4702\u001b[0m \u001b[32m━━━━━━━━━━━━━━━━━━━━\u001b[0m\u001b[37m\u001b[0m \u001b[1m32s\u001b[0m 7ms/step - accuracy: 0.4447 - loss: 1.0445 - val_accuracy: 0.4433 - val_loss: 1.0457\n",
      "Epoch 15/15\n",
      "\u001b[1m4702/4702\u001b[0m \u001b[32m━━━━━━━━━━━━━━━━━━━━\u001b[0m\u001b[37m\u001b[0m \u001b[1m32s\u001b[0m 7ms/step - accuracy: 0.4449 - loss: 1.0448 - val_accuracy: 0.4433 - val_loss: 1.0457\n",
      "\u001b[1m1470/1470\u001b[0m \u001b[32m━━━━━━━━━━━━━━━━━━━━\u001b[0m\u001b[37m\u001b[0m \u001b[1m3s\u001b[0m 2ms/step - accuracy: 0.4423 - loss: 1.0447\n"
     ]
    },
    {
     "data": {
      "text/html": [
       "<pre style=\"white-space:pre;overflow-x:auto;line-height:normal;font-family:Menlo,'DejaVu Sans Mono',consolas,'Courier New',monospace\"><span style=\"font-weight: bold\">Model: \"sequential_2\"</span>\n",
       "</pre>\n"
      ],
      "text/plain": [
       "\u001b[1mModel: \"sequential_2\"\u001b[0m\n"
      ]
     },
     "metadata": {},
     "output_type": "display_data"
    },
    {
     "data": {
      "text/html": [
       "<pre style=\"white-space:pre;overflow-x:auto;line-height:normal;font-family:Menlo,'DejaVu Sans Mono',consolas,'Courier New',monospace\">┏━━━━━━━━━━━━━━━━━━━━━━━━━━━━━━━━━┳━━━━━━━━━━━━━━━━━━━━━━━━┳━━━━━━━━━━━━━━━┓\n",
       "┃<span style=\"font-weight: bold\"> Layer (type)                    </span>┃<span style=\"font-weight: bold\"> Output Shape           </span>┃<span style=\"font-weight: bold\">       Param # </span>┃\n",
       "┡━━━━━━━━━━━━━━━━━━━━━━━━━━━━━━━━━╇━━━━━━━━━━━━━━━━━━━━━━━━╇━━━━━━━━━━━━━━━┩\n",
       "│ dense_6 (<span style=\"color: #0087ff; text-decoration-color: #0087ff\">Dense</span>)                 │ (<span style=\"color: #00d7ff; text-decoration-color: #00d7ff\">None</span>, <span style=\"color: #00af00; text-decoration-color: #00af00\">128</span>)            │       <span style=\"color: #00af00; text-decoration-color: #00af00\">640,128</span> │\n",
       "├─────────────────────────────────┼────────────────────────┼───────────────┤\n",
       "│ dropout_2 (<span style=\"color: #0087ff; text-decoration-color: #0087ff\">Dropout</span>)             │ (<span style=\"color: #00d7ff; text-decoration-color: #00d7ff\">None</span>, <span style=\"color: #00af00; text-decoration-color: #00af00\">128</span>)            │             <span style=\"color: #00af00; text-decoration-color: #00af00\">0</span> │\n",
       "├─────────────────────────────────┼────────────────────────┼───────────────┤\n",
       "│ dense_7 (<span style=\"color: #0087ff; text-decoration-color: #0087ff\">Dense</span>)                 │ (<span style=\"color: #00d7ff; text-decoration-color: #00d7ff\">None</span>, <span style=\"color: #00af00; text-decoration-color: #00af00\">64</span>)             │         <span style=\"color: #00af00; text-decoration-color: #00af00\">8,256</span> │\n",
       "├─────────────────────────────────┼────────────────────────┼───────────────┤\n",
       "│ dropout_3 (<span style=\"color: #0087ff; text-decoration-color: #0087ff\">Dropout</span>)             │ (<span style=\"color: #00d7ff; text-decoration-color: #00d7ff\">None</span>, <span style=\"color: #00af00; text-decoration-color: #00af00\">64</span>)             │             <span style=\"color: #00af00; text-decoration-color: #00af00\">0</span> │\n",
       "├─────────────────────────────────┼────────────────────────┼───────────────┤\n",
       "│ dense_8 (<span style=\"color: #0087ff; text-decoration-color: #0087ff\">Dense</span>)                 │ (<span style=\"color: #00d7ff; text-decoration-color: #00d7ff\">None</span>, <span style=\"color: #00af00; text-decoration-color: #00af00\">32</span>)             │         <span style=\"color: #00af00; text-decoration-color: #00af00\">2,080</span> │\n",
       "├─────────────────────────────────┼────────────────────────┼───────────────┤\n",
       "│ dropout_4 (<span style=\"color: #0087ff; text-decoration-color: #0087ff\">Dropout</span>)             │ (<span style=\"color: #00d7ff; text-decoration-color: #00d7ff\">None</span>, <span style=\"color: #00af00; text-decoration-color: #00af00\">32</span>)             │             <span style=\"color: #00af00; text-decoration-color: #00af00\">0</span> │\n",
       "├─────────────────────────────────┼────────────────────────┼───────────────┤\n",
       "│ dense_9 (<span style=\"color: #0087ff; text-decoration-color: #0087ff\">Dense</span>)                 │ (<span style=\"color: #00d7ff; text-decoration-color: #00d7ff\">None</span>, <span style=\"color: #00af00; text-decoration-color: #00af00\">3</span>)              │            <span style=\"color: #00af00; text-decoration-color: #00af00\">99</span> │\n",
       "└─────────────────────────────────┴────────────────────────┴───────────────┘\n",
       "</pre>\n"
      ],
      "text/plain": [
       "┏━━━━━━━━━━━━━━━━━━━━━━━━━━━━━━━━━┳━━━━━━━━━━━━━━━━━━━━━━━━┳━━━━━━━━━━━━━━━┓\n",
       "┃\u001b[1m \u001b[0m\u001b[1mLayer (type)                   \u001b[0m\u001b[1m \u001b[0m┃\u001b[1m \u001b[0m\u001b[1mOutput Shape          \u001b[0m\u001b[1m \u001b[0m┃\u001b[1m \u001b[0m\u001b[1m      Param #\u001b[0m\u001b[1m \u001b[0m┃\n",
       "┡━━━━━━━━━━━━━━━━━━━━━━━━━━━━━━━━━╇━━━━━━━━━━━━━━━━━━━━━━━━╇━━━━━━━━━━━━━━━┩\n",
       "│ dense_6 (\u001b[38;5;33mDense\u001b[0m)                 │ (\u001b[38;5;45mNone\u001b[0m, \u001b[38;5;34m128\u001b[0m)            │       \u001b[38;5;34m640,128\u001b[0m │\n",
       "├─────────────────────────────────┼────────────────────────┼───────────────┤\n",
       "│ dropout_2 (\u001b[38;5;33mDropout\u001b[0m)             │ (\u001b[38;5;45mNone\u001b[0m, \u001b[38;5;34m128\u001b[0m)            │             \u001b[38;5;34m0\u001b[0m │\n",
       "├─────────────────────────────────┼────────────────────────┼───────────────┤\n",
       "│ dense_7 (\u001b[38;5;33mDense\u001b[0m)                 │ (\u001b[38;5;45mNone\u001b[0m, \u001b[38;5;34m64\u001b[0m)             │         \u001b[38;5;34m8,256\u001b[0m │\n",
       "├─────────────────────────────────┼────────────────────────┼───────────────┤\n",
       "│ dropout_3 (\u001b[38;5;33mDropout\u001b[0m)             │ (\u001b[38;5;45mNone\u001b[0m, \u001b[38;5;34m64\u001b[0m)             │             \u001b[38;5;34m0\u001b[0m │\n",
       "├─────────────────────────────────┼────────────────────────┼───────────────┤\n",
       "│ dense_8 (\u001b[38;5;33mDense\u001b[0m)                 │ (\u001b[38;5;45mNone\u001b[0m, \u001b[38;5;34m32\u001b[0m)             │         \u001b[38;5;34m2,080\u001b[0m │\n",
       "├─────────────────────────────────┼────────────────────────┼───────────────┤\n",
       "│ dropout_4 (\u001b[38;5;33mDropout\u001b[0m)             │ (\u001b[38;5;45mNone\u001b[0m, \u001b[38;5;34m32\u001b[0m)             │             \u001b[38;5;34m0\u001b[0m │\n",
       "├─────────────────────────────────┼────────────────────────┼───────────────┤\n",
       "│ dense_9 (\u001b[38;5;33mDense\u001b[0m)                 │ (\u001b[38;5;45mNone\u001b[0m, \u001b[38;5;34m3\u001b[0m)              │            \u001b[38;5;34m99\u001b[0m │\n",
       "└─────────────────────────────────┴────────────────────────┴───────────────┘\n"
      ]
     },
     "metadata": {},
     "output_type": "display_data"
    },
    {
     "data": {
      "text/html": [
       "<pre style=\"white-space:pre;overflow-x:auto;line-height:normal;font-family:Menlo,'DejaVu Sans Mono',consolas,'Courier New',monospace\"><span style=\"font-weight: bold\"> Total params: </span><span style=\"color: #00af00; text-decoration-color: #00af00\">1,951,691</span> (7.45 MB)\n",
       "</pre>\n"
      ],
      "text/plain": [
       "\u001b[1m Total params: \u001b[0m\u001b[38;5;34m1,951,691\u001b[0m (7.45 MB)\n"
      ]
     },
     "metadata": {},
     "output_type": "display_data"
    },
    {
     "data": {
      "text/html": [
       "<pre style=\"white-space:pre;overflow-x:auto;line-height:normal;font-family:Menlo,'DejaVu Sans Mono',consolas,'Courier New',monospace\"><span style=\"font-weight: bold\"> Trainable params: </span><span style=\"color: #00af00; text-decoration-color: #00af00\">650,563</span> (2.48 MB)\n",
       "</pre>\n"
      ],
      "text/plain": [
       "\u001b[1m Trainable params: \u001b[0m\u001b[38;5;34m650,563\u001b[0m (2.48 MB)\n"
      ]
     },
     "metadata": {},
     "output_type": "display_data"
    },
    {
     "data": {
      "text/html": [
       "<pre style=\"white-space:pre;overflow-x:auto;line-height:normal;font-family:Menlo,'DejaVu Sans Mono',consolas,'Courier New',monospace\"><span style=\"font-weight: bold\"> Non-trainable params: </span><span style=\"color: #00af00; text-decoration-color: #00af00\">0</span> (0.00 B)\n",
       "</pre>\n"
      ],
      "text/plain": [
       "\u001b[1m Non-trainable params: \u001b[0m\u001b[38;5;34m0\u001b[0m (0.00 B)\n"
      ]
     },
     "metadata": {},
     "output_type": "display_data"
    },
    {
     "data": {
      "text/html": [
       "<pre style=\"white-space:pre;overflow-x:auto;line-height:normal;font-family:Menlo,'DejaVu Sans Mono',consolas,'Courier New',monospace\"><span style=\"font-weight: bold\"> Optimizer params: </span><span style=\"color: #00af00; text-decoration-color: #00af00\">1,301,128</span> (4.96 MB)\n",
       "</pre>\n"
      ],
      "text/plain": [
       "\u001b[1m Optimizer params: \u001b[0m\u001b[38;5;34m1,301,128\u001b[0m (4.96 MB)\n"
      ]
     },
     "metadata": {},
     "output_type": "display_data"
    },
    {
     "name": "stdout",
     "output_type": "stream",
     "text": [
      "\n",
      "Precisión en el conjunto de prueba: 0.44\n"
     ]
    }
   ],
   "source": [
    "import tensorflow as tf\n",
    "from tensorflow.keras.models import Sequential\n",
    "from tensorflow.keras.layers import Dense, Dropout\n",
    "from tensorflow.keras.regularizers import l2\n",
    "\n",
    "# 1. Definir la arquitectura del tercer modelo\n",
    "model = Sequential([\n",
    "    Dense(128, input_shape=(5000,), activation='relu', kernel_regularizer=l2(0.005)),  # Capa oculta 1 con regularización L2 ajustada\n",
    "    Dropout(0.3),  # Dropout reducido al 30%\n",
    "    Dense(64, activation='relu', kernel_regularizer=l2(0.005)),  # Capa oculta 2 con regularización L2 ajustada\n",
    "    Dropout(0.3),  # Dropout reducido al 30%\n",
    "    Dense(32, activation='relu', kernel_regularizer=l2(0.005)),  # Capa oculta 3 adicional\n",
    "    Dropout(0.3),  # Dropout para la capa adicional\n",
    "    Dense(3, activation='softmax')  # Capa de salida para 3 clases\n",
    "])\n",
    "\n",
    "# 2. Compilar el modelo\n",
    "model.compile(\n",
    "    optimizer='adam',\n",
    "    loss='categorical_crossentropy',\n",
    "    metrics=['accuracy']\n",
    ")\n",
    "\n",
    "# 3. Entrenar el modelo con los datos corregidos\n",
    "history = model.fit(\n",
    "    X_train, y_train_onehot,\n",
    "    validation_split=0.2,  # 20% del conjunto de entrenamiento para validación\n",
    "    epochs=15, \n",
    "    batch_size=32,\n",
    "    verbose=1\n",
    ")\n",
    "\n",
    "# 4. Evaluar el modelo en el conjunto de prueba\n",
    "test_loss, test_accuracy = model.evaluate(X_test, y_test_onehot, verbose=1)\n",
    "\n",
    "# 5. Mostrar el resumen del modelo y los resultados de prueba\n",
    "model.summary()\n",
    "print(f\"\\nPrecisión en el conjunto de prueba: {test_accuracy:.2f}\")"
   ]
  },
  {
   "cell_type": "markdown",
   "id": "7cecb531-9a81-4d00-8934-a9a5ca5614be",
   "metadata": {},
   "source": [
    "**Dados los resultados de los tres modelos:**\n",
    "\n",
    "1. Primer Modelo: Sin Regularización: Dos capas densas sin técnicas de regularización.\n",
    "\n",
    "* Rendimiento: Alcanzó un 83% de precisión en el conjunto de prueba.\n",
    "* Desventaja: Mostró sobreajuste, lo que indica que no generaliza bien y memoriza patrones del conjunto de entrenamiento.\n",
    "\n",
    "2. Segundo Modelo: Con Regularización: Dos capas densas con regularización L2 y dropout.\n",
    "\n",
    "* Rendimiento: Mejor generalización: Alcanzó una precisión más baja (76%), pero con menor sobreajuste en comparación con el primer modelo.\n",
    "* Estabilidad: La pérdida de validación fue más estable, lo que indica que generaliza mejor.\n",
    "\n",
    "**Este modelo es el más equilibrado y adecuado para tareas donde se necesita generalización sobre datos no vistos, sacrificando algo de precisión en el proceso.**\n",
    "\n",
    "3. Tercer Modelo: Arquitectura Más Compleja: Tres capas densas con regularización ajustada.\n",
    "\n",
    "* Rendimiento: Más bajo: La precisión se estabilizó alrededor del 44%, lo que sugiere problemas de subentrenamiento o una estructura demasiado compleja para el conjunto de datos actual.\n",
    "* Desventaja: Este modelo no logró capturar patrones significativos, lo que lo hace menos efectivo que los dos primeros."
   ]
  },
  {
   "cell_type": "markdown",
   "id": "0462d027-9453-420d-b908-8d2b968827bd",
   "metadata": {},
   "source": [
    "* **Paso 3: Evaluación del Modelo en el Conjunto de Prueba**"
   ]
  },
  {
   "cell_type": "code",
   "execution_count": 21,
   "id": "f92efcc0-a8b8-4ad8-906e-716cc58b6ea2",
   "metadata": {
    "tags": []
   },
   "outputs": [
    {
     "name": "stdout",
     "output_type": "stream",
     "text": [
      "\u001b[1m1470/1470\u001b[0m \u001b[32m━━━━━━━━━━━━━━━━━━━━\u001b[0m\u001b[37m\u001b[0m \u001b[1m6s\u001b[0m 4ms/step\n",
      "Informe de Clasificación:\n",
      "              precision    recall  f1-score   support\n",
      "\n",
      "    Negative       0.00      0.00      0.00     17067\n",
      "     Neutral       0.00      0.00      0.00      9148\n",
      "    Positive       0.44      1.00      0.61     20802\n",
      "\n",
      "    accuracy                           0.44     47017\n",
      "   macro avg       0.15      0.33      0.20     47017\n",
      "weighted avg       0.20      0.44      0.27     47017\n",
      "\n",
      "\n",
      "Matriz de Confusión:\n",
      "[[    0     0 17067]\n",
      " [    0     0  9148]\n",
      " [    0     0 20802]]\n"
     ]
    },
    {
     "name": "stderr",
     "output_type": "stream",
     "text": [
      "C:\\Users\\Leandra\\anaconda3\\Lib\\site-packages\\sklearn\\metrics\\_classification.py:1531: UndefinedMetricWarning: Precision is ill-defined and being set to 0.0 in labels with no predicted samples. Use `zero_division` parameter to control this behavior.\n",
      "  _warn_prf(average, modifier, f\"{metric.capitalize()} is\", len(result))\n",
      "C:\\Users\\Leandra\\anaconda3\\Lib\\site-packages\\sklearn\\metrics\\_classification.py:1531: UndefinedMetricWarning: Precision is ill-defined and being set to 0.0 in labels with no predicted samples. Use `zero_division` parameter to control this behavior.\n",
      "  _warn_prf(average, modifier, f\"{metric.capitalize()} is\", len(result))\n",
      "C:\\Users\\Leandra\\anaconda3\\Lib\\site-packages\\sklearn\\metrics\\_classification.py:1531: UndefinedMetricWarning: Precision is ill-defined and being set to 0.0 in labels with no predicted samples. Use `zero_division` parameter to control this behavior.\n",
      "  _warn_prf(average, modifier, f\"{metric.capitalize()} is\", len(result))\n"
     ]
    }
   ],
   "source": [
    "from sklearn.metrics import classification_report, confusion_matrix\n",
    "import numpy as np\n",
    "\n",
    "# Realizar predicciones en el conjunto de prueba\n",
    "y_pred = model.predict(X_test)\n",
    "\n",
    "# Convertir las predicciones y etiquetas reales de one-hot a formato de clase (0, 1, 2)\n",
    "y_pred_classes = np.argmax(y_pred, axis=1)\n",
    "y_true_classes = np.argmax(y_test_onehot, axis=1)\n",
    "\n",
    "# Imprimir el informe de clasificación\n",
    "report = classification_report(y_true_classes, y_pred_classes, target_names=['Negative', 'Neutral', 'Positive'])\n",
    "print(\"Informe de Clasificación:\")\n",
    "print(report)\n",
    "\n",
    "# Imprimir la matriz de confusión\n",
    "cm = confusion_matrix(y_true_classes, y_pred_classes)\n",
    "print(\"\\nMatriz de Confusión:\")\n",
    "print(cm)"
   ]
  },
  {
   "cell_type": "markdown",
   "id": "aebbffcd-9b8f-4771-ada5-df27ab3389ae",
   "metadata": {},
   "source": [
    "**Dados estps resultados se procede con un cuarto modelo**"
   ]
  },
  {
   "cell_type": "markdown",
   "id": "e682735d-12b4-47db-bb14-982473053c4d",
   "metadata": {},
   "source": [
    "* **Manejo el desequilibrio de Clases:**"
   ]
  },
  {
   "cell_type": "code",
   "execution_count": 24,
   "id": "a1ba9830-3200-4d59-8c6a-3dcf5e6eb10d",
   "metadata": {
    "tags": []
   },
   "outputs": [
    {
     "name": "stdout",
     "output_type": "stream",
     "text": [
      "Distribución de clases después del sobremuestreo: [83373 83373 83373]\n"
     ]
    }
   ],
   "source": [
    "from imblearn.over_sampling import RandomOverSampler\n",
    "\n",
    "# Crear un sobremuestreador\n",
    "ros = RandomOverSampler(random_state=42)\n",
    "\n",
    "# Aplicar el sobremuestreo solo en los conjuntos de entrenamiento\n",
    "X_train_resampled, y_train_resampled = ros.fit_resample(X_train, y_train_onehot)\n",
    "\n",
    "# Mostrar la distribución de clases después del sobremuestreo\n",
    "import numpy as np\n",
    "print(\"Distribución de clases después del sobremuestreo:\", np.sum(y_train_resampled, axis=0))"
   ]
  },
  {
   "cell_type": "markdown",
   "id": "fd44e6d8-eae9-4799-938e-c9aad98bb185",
   "metadata": {},
   "source": [
    "* **Ajustando la regularización en el Modelo:**"
   ]
  },
  {
   "cell_type": "code",
   "execution_count": 25,
   "id": "92cddb45-19c8-4b7a-855e-c645bdd776b3",
   "metadata": {
    "tags": []
   },
   "outputs": [
    {
     "name": "stderr",
     "output_type": "stream",
     "text": [
      "C:\\Users\\Leandra\\anaconda3\\Lib\\site-packages\\keras\\src\\layers\\core\\dense.py:87: UserWarning: Do not pass an `input_shape`/`input_dim` argument to a layer. When using Sequential models, prefer using an `Input(shape)` object as the first layer in the model instead.\n",
      "  super().__init__(activity_regularizer=activity_regularizer, **kwargs)\n"
     ]
    },
    {
     "name": "stdout",
     "output_type": "stream",
     "text": [
      "Epoch 1/10\n",
      "\u001b[1m6253/6253\u001b[0m \u001b[32m━━━━━━━━━━━━━━━━━━━━\u001b[0m\u001b[37m\u001b[0m \u001b[1m42s\u001b[0m 7ms/step - accuracy: 0.7103 - loss: 0.8969 - val_accuracy: 0.7048 - val_loss: 1.0583\n",
      "Epoch 2/10\n",
      "\u001b[1m6253/6253\u001b[0m \u001b[32m━━━━━━━━━━━━━━━━━━━━\u001b[0m\u001b[37m\u001b[0m \u001b[1m42s\u001b[0m 7ms/step - accuracy: 0.7991 - loss: 0.7328 - val_accuracy: 0.7016 - val_loss: 1.0324\n",
      "Epoch 3/10\n",
      "\u001b[1m6253/6253\u001b[0m \u001b[32m━━━━━━━━━━━━━━━━━━━━\u001b[0m\u001b[37m\u001b[0m \u001b[1m39s\u001b[0m 6ms/step - accuracy: 0.8078 - loss: 0.6923 - val_accuracy: 0.6858 - val_loss: 1.0780\n",
      "Epoch 4/10\n",
      "\u001b[1m6253/6253\u001b[0m \u001b[32m━━━━━━━━━━━━━━━━━━━━\u001b[0m\u001b[37m\u001b[0m \u001b[1m42s\u001b[0m 7ms/step - accuracy: 0.8132 - loss: 0.6747 - val_accuracy: 0.7621 - val_loss: 0.8644\n",
      "Epoch 5/10\n",
      "\u001b[1m6253/6253\u001b[0m \u001b[32m━━━━━━━━━━━━━━━━━━━━\u001b[0m\u001b[37m\u001b[0m \u001b[1m40s\u001b[0m 6ms/step - accuracy: 0.8145 - loss: 0.6634 - val_accuracy: 0.7419 - val_loss: 0.9050\n",
      "Epoch 6/10\n",
      "\u001b[1m6253/6253\u001b[0m \u001b[32m━━━━━━━━━━━━━━━━━━━━\u001b[0m\u001b[37m\u001b[0m \u001b[1m41s\u001b[0m 7ms/step - accuracy: 0.8141 - loss: 0.6592 - val_accuracy: 0.6814 - val_loss: 1.0340\n",
      "Epoch 7/10\n",
      "\u001b[1m6253/6253\u001b[0m \u001b[32m━━━━━━━━━━━━━━━━━━━━\u001b[0m\u001b[37m\u001b[0m \u001b[1m41s\u001b[0m 7ms/step - accuracy: 0.8144 - loss: 0.6585 - val_accuracy: 0.7574 - val_loss: 0.8264\n",
      "Epoch 8/10\n",
      "\u001b[1m6253/6253\u001b[0m \u001b[32m━━━━━━━━━━━━━━━━━━━━\u001b[0m\u001b[37m\u001b[0m \u001b[1m42s\u001b[0m 7ms/step - accuracy: 0.8161 - loss: 0.6528 - val_accuracy: 0.7416 - val_loss: 0.8689\n",
      "Epoch 9/10\n",
      "\u001b[1m6253/6253\u001b[0m \u001b[32m━━━━━━━━━━━━━━━━━━━━\u001b[0m\u001b[37m\u001b[0m \u001b[1m41s\u001b[0m 7ms/step - accuracy: 0.8197 - loss: 0.6493 - val_accuracy: 0.7401 - val_loss: 0.8911\n",
      "Epoch 10/10\n",
      "\u001b[1m6253/6253\u001b[0m \u001b[32m━━━━━━━━━━━━━━━━━━━━\u001b[0m\u001b[37m\u001b[0m \u001b[1m40s\u001b[0m 6ms/step - accuracy: 0.8164 - loss: 0.6520 - val_accuracy: 0.6431 - val_loss: 1.1538\n"
     ]
    }
   ],
   "source": [
    "from tensorflow.keras.models import Sequential\n",
    "from tensorflow.keras.layers import Dense, Dropout\n",
    "from tensorflow.keras.regularizers import l2\n",
    "\n",
    "# Definir la arquitectura del modelo ajustado\n",
    "model = Sequential([\n",
    "    Dense(128, input_shape=(5000,), activation='relu', kernel_regularizer=l2(0.002)),  # Regularización reducida\n",
    "    Dropout(0.2),  # Dropout reducido\n",
    "    Dense(64, activation='relu', kernel_regularizer=l2(0.002)),  # Regularización reducida\n",
    "    Dropout(0.2),  # Dropout reducido\n",
    "    Dense(3, activation='softmax')  # Capa de salida\n",
    "])\n",
    "\n",
    "# Compilar el modelo\n",
    "model.compile(\n",
    "    optimizer='adam',\n",
    "    loss='categorical_crossentropy',\n",
    "    metrics=['accuracy']\n",
    ")\n",
    "\n",
    "# Entrenar el modelo con los datos sobremuestreados\n",
    "history = model.fit(\n",
    "    X_train_resampled, y_train_resampled,\n",
    "    validation_split=0.2,\n",
    "    epochs=10,\n",
    "    batch_size=32,\n",
    "    verbose=1\n",
    ")"
   ]
  },
  {
   "cell_type": "markdown",
   "id": "bad1e5f9-95ff-4e2f-82e2-7a74a0174c86",
   "metadata": {},
   "source": [
    "* **Evaluación del modelo ajustado:**"
   ]
  },
  {
   "cell_type": "code",
   "execution_count": 26,
   "id": "58b98337-315d-4d2c-9891-3ddca23c8b78",
   "metadata": {
    "tags": []
   },
   "outputs": [
    {
     "name": "stdout",
     "output_type": "stream",
     "text": [
      "\u001b[1m1470/1470\u001b[0m \u001b[32m━━━━━━━━━━━━━━━━━━━━\u001b[0m\u001b[37m\u001b[0m \u001b[1m6s\u001b[0m 4ms/step\n",
      "Informe de Clasificación:\n",
      "              precision    recall  f1-score   support\n",
      "\n",
      "    Negative       0.78      0.87      0.82     17067\n",
      "     Neutral       0.85      0.60      0.70      9148\n",
      "    Positive       0.85      0.87      0.86     20802\n",
      "\n",
      "    accuracy                           0.82     47017\n",
      "   macro avg       0.82      0.78      0.79     47017\n",
      "weighted avg       0.82      0.82      0.82     47017\n",
      "\n",
      "\n",
      "Matriz de Confusión:\n",
      "[[14894   456  1717]\n",
      " [ 2084  5476  1588]\n",
      " [ 2157   510 18135]]\n"
     ]
    }
   ],
   "source": [
    "from sklearn.metrics import classification_report, confusion_matrix\n",
    "import numpy as np\n",
    "\n",
    "# Realizar predicciones en el conjunto de prueba\n",
    "y_pred = model.predict(X_test)\n",
    "\n",
    "# Convertir las predicciones y etiquetas reales de one-hot a formato de clase\n",
    "y_pred_classes = np.argmax(y_pred, axis=1)\n",
    "y_true_classes = np.argmax(y_test_onehot, axis=1)\n",
    "\n",
    "# Imprimir el informe de clasificación\n",
    "report = classification_report(y_true_classes, y_pred_classes, target_names=['Negative', 'Neutral', 'Positive'])\n",
    "print(\"Informe de Clasificación:\")\n",
    "print(report)\n",
    "\n",
    "# Imprimir la matriz de confusión\n",
    "cm = confusion_matrix(y_true_classes, y_pred_classes)\n",
    "print(\"\\nMatriz de Confusión:\")\n",
    "print(cm)"
   ]
  },
  {
   "cell_type": "markdown",
   "id": "d6f06307-44ea-4141-a14f-2614e899338f",
   "metadata": {},
   "source": [
    "**Análisis de Resultados del Modelo Ajustado**\n",
    "\n",
    "* Clase 'Negativa': La precisión es del 78% y el recuerdo del 87% , lo que indica que el modelo está prediciendo correctamente la mayoría de las muestras de esta clase.\n",
    "\n",
    "* Clase 'Neutral': La precisión es del 85% , aunque el recuerdo es más bajo ( 60% ), lo que sugiere que el modelo aún tiene dificultades para identificar todas las muestras de esta clase. Sin embargo, el f1-score mejoró un 70% , lo que representa una mejora en la predicción de la clase 'Neutral'.\n",
    "\n",
    "* Clase 'Positiva': La precisión y el recuerdo son ambos del 85% y 87% , respectivamente, con un puntaje f1 de 86% , lo cual es bastante sólido.\n",
    "\n",
    "* Promedio ponderado: El f1-score ponderado alcanzó el 82% , lo que indica un rendimiento más equilibrado en todas las clases.\n",
    "\n",
    "* Matriz de confusión: Se observa una mejor distribución de las predicciones, con menos confusión entre las clases.La clase 'Neutral' aún muestra algunas dificultades, pero la cantidad de muestras correctamente clasificadas aumentó en comparación con los modelos anteriores."
   ]
  },
  {
   "cell_type": "markdown",
   "id": "48953864-cd61-4cc2-89c2-29bdb3ffa173",
   "metadata": {
    "tags": []
   },
   "source": [
    "## **Resumen de los puntos desarrollados y conclusiones**"
   ]
  },
  {
   "cell_type": "markdown",
   "id": "b0417438-5f0c-44b5-94cb-3959b386eeea",
   "metadata": {},
   "source": [
    "* Se implementó una red neuronal densa con tres capas (dos ocultas y una de salida) utilizando la matriz TF-IDF generada del conjunto de datos de comentarios. En esta versión del modelo se siguieron las recomendaciones del tutor, que incluyeron:\n",
    "\n",
    "1. Separación de los conjuntos de entrenamiento y prueba antes de aplicar la vectorización TF-IDF, para evitar que el modelo reciba información del conjunto de prueba durante el preprocesamiento.\n",
    "\n",
    "2. Uso de sobremuestreo en las clases minoritarias ('Negative' y 'Neutral'), lo cual mejoró la capacidad del modelo para aprender características de cada clase, reduciendo el sesgo hacia la clase 'Positive'.\n",
    "\n",
    "3. Ajuste de la regularización L2 a un valor menor y disminución del abandono a 0.2, lo que permitió al modelo retener más información durante el entrenamiento y mejorar la generalización.\n",
    "\n",
    "* La red neuronal alcanzó una precisión general del 82% en el conjunto de prueba, mostrando un buen equilibrio entre precisión y recuperación en las clases 'Negativo' y 'Positivo'.\n",
    "\n",
    "* La precisión de la clase 'Neutral' mejoró gracias al sobremuestreo, aunque el recuerdo se mantuvo en un nivel más bajo (60%). Aun así, el f1-score para esta clase aumentó, lo que indica un progreso significativo en la predicción de comentarios ambiguos.\n",
    "\n",
    "* La matriz de confusión mostró una mejor distribución de las predicciones, reduciendo la confusión entre las clases y mejorando el desempeño global del modelo.\n",
    "\n",
    "**Conclusión final: El modelo cumple con todos los requisitos de la consigna, logrando un rendimiento sólido para la clasificación de sentimientos en comentarios textuales. La red desarrollada sigue siendo una red densa (completamente conectada) sin convoluciones ni procesamiento secuencial, adecuada para problemas de clasificación multiclase basados en datos tabulares derivados de la vectorización TF-IDF.\n",
    "Sin embargo, para mejorar la clasificación de la clase 'Neutral', podrían probarse arquitecturas más complejas (p. ej., LSTM, GRU o embeddings preentrenados), técnicas más avanzadas de manejo de desbalance (p. ej., SMOTE), o ajustes más finos de hiperparámetros.**"
   ]
  }
 ],
 "metadata": {
  "kernelspec": {
   "display_name": "Python 3 (ipykernel)",
   "language": "python",
   "name": "python3"
  },
  "language_info": {
   "codemirror_mode": {
    "name": "ipython",
    "version": 3
   },
   "file_extension": ".py",
   "mimetype": "text/x-python",
   "name": "python",
   "nbconvert_exporter": "python",
   "pygments_lexer": "ipython3",
   "version": "3.11.5"
  }
 },
 "nbformat": 4,
 "nbformat_minor": 5
}
